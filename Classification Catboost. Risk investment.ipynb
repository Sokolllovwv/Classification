{
 "cells": [
  {
   "cell_type": "code",
   "execution_count": 1,
   "id": "105694b4",
   "metadata": {},
   "outputs": [
    {
     "name": "stdout",
     "output_type": "stream",
     "text": [
      "1.4.1\n"
     ]
    }
   ],
   "source": [
    "#! pip install --upgrade pandas==1.4.1\n",
    "import pandas as pd\n",
    "import numpy as np\n",
    "import pickle\n",
    "\n",
    "from catboost import CatBoostClassifier\n",
    "\n",
    "from sklearn.model_selection import train_test_split\n",
    "import matplotlib.pyplot as plt\n",
    "import seaborn as sns\n",
    "\n",
    "import warnings\n",
    "warnings.filterwarnings('ignore')\n",
    "\n",
    "print(pd. __version__)"
   ]
  },
  {
   "cell_type": "code",
   "execution_count": 5,
   "id": "655f3200",
   "metadata": {},
   "outputs": [
    {
     "data": {
      "text/html": [
       "<div>\n",
       "<style scoped>\n",
       "    .dataframe tbody tr th:only-of-type {\n",
       "        vertical-align: middle;\n",
       "    }\n",
       "\n",
       "    .dataframe tbody tr th {\n",
       "        vertical-align: top;\n",
       "    }\n",
       "\n",
       "    .dataframe thead th {\n",
       "        text-align: right;\n",
       "    }\n",
       "</style>\n",
       "<table border=\"1\" class=\"dataframe\">\n",
       "  <thead>\n",
       "    <tr style=\"text-align: right;\">\n",
       "      <th></th>\n",
       "      <th>customer_ID</th>\n",
       "      <th>S_2</th>\n",
       "      <th>P_2</th>\n",
       "      <th>D_39</th>\n",
       "      <th>B_1</th>\n",
       "      <th>B_2</th>\n",
       "      <th>R_1</th>\n",
       "      <th>S_3</th>\n",
       "      <th>D_41</th>\n",
       "      <th>B_3</th>\n",
       "      <th>...</th>\n",
       "      <th>D_136</th>\n",
       "      <th>D_137</th>\n",
       "      <th>D_138</th>\n",
       "      <th>D_139</th>\n",
       "      <th>D_140</th>\n",
       "      <th>D_141</th>\n",
       "      <th>D_142</th>\n",
       "      <th>D_143</th>\n",
       "      <th>D_144</th>\n",
       "      <th>D_145</th>\n",
       "    </tr>\n",
       "  </thead>\n",
       "  <tbody>\n",
       "    <tr>\n",
       "      <th>0</th>\n",
       "      <td>000041bdba6ecadd89a52d11886e8eaaec9325906c9723...</td>\n",
       "      <td>2018-03-29</td>\n",
       "      <td>0.621582</td>\n",
       "      <td>0.001082</td>\n",
       "      <td>0.012566</td>\n",
       "      <td>1.005859</td>\n",
       "      <td>0.007828</td>\n",
       "      <td>0.287842</td>\n",
       "      <td>0.004532</td>\n",
       "      <td>0.009941</td>\n",
       "      <td>...</td>\n",
       "      <td>NaN</td>\n",
       "      <td>NaN</td>\n",
       "      <td>NaN</td>\n",
       "      <td>0.002705</td>\n",
       "      <td>0.006184</td>\n",
       "      <td>0.001899</td>\n",
       "      <td>NaN</td>\n",
       "      <td>0.008186</td>\n",
       "      <td>0.005558</td>\n",
       "      <td>0.002983</td>\n",
       "    </tr>\n",
       "    <tr>\n",
       "      <th>1</th>\n",
       "      <td>00007889e4fcd2614b6cbe7f8f3d2e5c728eca32d9eb8a...</td>\n",
       "      <td>2018-03-30</td>\n",
       "      <td>0.872070</td>\n",
       "      <td>0.005573</td>\n",
       "      <td>0.007679</td>\n",
       "      <td>0.815918</td>\n",
       "      <td>0.001247</td>\n",
       "      <td>NaN</td>\n",
       "      <td>0.000231</td>\n",
       "      <td>0.005527</td>\n",
       "      <td>...</td>\n",
       "      <td>NaN</td>\n",
       "      <td>NaN</td>\n",
       "      <td>NaN</td>\n",
       "      <td>0.002974</td>\n",
       "      <td>0.004162</td>\n",
       "      <td>0.005764</td>\n",
       "      <td>NaN</td>\n",
       "      <td>0.008156</td>\n",
       "      <td>0.006943</td>\n",
       "      <td>0.000905</td>\n",
       "    </tr>\n",
       "    <tr>\n",
       "      <th>2</th>\n",
       "      <td>00018dd4932409baf6083519b52113c2ef58be59e1213e...</td>\n",
       "      <td>2018-03-26</td>\n",
       "      <td>0.894531</td>\n",
       "      <td>0.007793</td>\n",
       "      <td>0.017899</td>\n",
       "      <td>0.812012</td>\n",
       "      <td>0.007027</td>\n",
       "      <td>0.097107</td>\n",
       "      <td>0.008308</td>\n",
       "      <td>0.009979</td>\n",
       "      <td>...</td>\n",
       "      <td>NaN</td>\n",
       "      <td>NaN</td>\n",
       "      <td>NaN</td>\n",
       "      <td>0.004284</td>\n",
       "      <td>0.006908</td>\n",
       "      <td>0.007717</td>\n",
       "      <td>NaN</td>\n",
       "      <td>0.004929</td>\n",
       "      <td>0.008560</td>\n",
       "      <td>0.004406</td>\n",
       "    </tr>\n",
       "    <tr>\n",
       "      <th>3</th>\n",
       "      <td>000198b3dc70edd65dbf0d7eddbcb926c6d7dbd7986af1...</td>\n",
       "      <td>2018-03-28</td>\n",
       "      <td>0.527344</td>\n",
       "      <td>0.360352</td>\n",
       "      <td>0.041718</td>\n",
       "      <td>0.673340</td>\n",
       "      <td>0.006729</td>\n",
       "      <td>0.838867</td>\n",
       "      <td>0.001353</td>\n",
       "      <td>0.049042</td>\n",
       "      <td>...</td>\n",
       "      <td>NaN</td>\n",
       "      <td>NaN</td>\n",
       "      <td>NaN</td>\n",
       "      <td>1.005859</td>\n",
       "      <td>0.005123</td>\n",
       "      <td>0.888672</td>\n",
       "      <td>0.191284</td>\n",
       "      <td>1.009766</td>\n",
       "      <td>0.670410</td>\n",
       "      <td>0.186768</td>\n",
       "    </tr>\n",
       "    <tr>\n",
       "      <th>4</th>\n",
       "      <td>00031e8be98bc3411f6037cbd4d3eeaf24b3ae221682b7...</td>\n",
       "      <td>2018-03-27</td>\n",
       "      <td>0.828125</td>\n",
       "      <td>0.120239</td>\n",
       "      <td>0.027313</td>\n",
       "      <td>1.001953</td>\n",
       "      <td>0.001572</td>\n",
       "      <td>0.175781</td>\n",
       "      <td>0.006531</td>\n",
       "      <td>0.019485</td>\n",
       "      <td>...</td>\n",
       "      <td>NaN</td>\n",
       "      <td>NaN</td>\n",
       "      <td>NaN</td>\n",
       "      <td>1.004883</td>\n",
       "      <td>0.000700</td>\n",
       "      <td>0.890625</td>\n",
       "      <td>0.161011</td>\n",
       "      <td>1.002930</td>\n",
       "      <td>0.508789</td>\n",
       "      <td>0.093628</td>\n",
       "    </tr>\n",
       "  </tbody>\n",
       "</table>\n",
       "<p>5 rows × 190 columns</p>\n",
       "</div>"
      ],
      "text/plain": [
       "                                         customer_ID        S_2       P_2  \\\n",
       "0  000041bdba6ecadd89a52d11886e8eaaec9325906c9723... 2018-03-29  0.621582   \n",
       "1  00007889e4fcd2614b6cbe7f8f3d2e5c728eca32d9eb8a... 2018-03-30  0.872070   \n",
       "2  00018dd4932409baf6083519b52113c2ef58be59e1213e... 2018-03-26  0.894531   \n",
       "3  000198b3dc70edd65dbf0d7eddbcb926c6d7dbd7986af1... 2018-03-28  0.527344   \n",
       "4  00031e8be98bc3411f6037cbd4d3eeaf24b3ae221682b7... 2018-03-27  0.828125   \n",
       "\n",
       "       D_39       B_1       B_2       R_1       S_3      D_41       B_3  ...  \\\n",
       "0  0.001082  0.012566  1.005859  0.007828  0.287842  0.004532  0.009941  ...   \n",
       "1  0.005573  0.007679  0.815918  0.001247       NaN  0.000231  0.005527  ...   \n",
       "2  0.007793  0.017899  0.812012  0.007027  0.097107  0.008308  0.009979  ...   \n",
       "3  0.360352  0.041718  0.673340  0.006729  0.838867  0.001353  0.049042  ...   \n",
       "4  0.120239  0.027313  1.001953  0.001572  0.175781  0.006531  0.019485  ...   \n",
       "\n",
       "   D_136  D_137  D_138     D_139     D_140     D_141     D_142     D_143  \\\n",
       "0    NaN    NaN    NaN  0.002705  0.006184  0.001899       NaN  0.008186   \n",
       "1    NaN    NaN    NaN  0.002974  0.004162  0.005764       NaN  0.008156   \n",
       "2    NaN    NaN    NaN  0.004284  0.006908  0.007717       NaN  0.004929   \n",
       "3    NaN    NaN    NaN  1.005859  0.005123  0.888672  0.191284  1.009766   \n",
       "4    NaN    NaN    NaN  1.004883  0.000700  0.890625  0.161011  1.002930   \n",
       "\n",
       "      D_144     D_145  \n",
       "0  0.005558  0.002983  \n",
       "1  0.006943  0.000905  \n",
       "2  0.008560  0.004406  \n",
       "3  0.670410  0.186768  \n",
       "4  0.508789  0.093628  \n",
       "\n",
       "[5 rows x 190 columns]"
      ]
     },
     "execution_count": 5,
     "metadata": {},
     "output_type": "execute_result"
    }
   ],
   "source": [
    "url_1='https://drive.google.com/file/d/1Kjy6nA9sj9sSN6HoZl23p2JjB6pa86VM/view?usp=drive_link'\n",
    "url_1='https://drive.google.com/uc?id=' + url_1.split('/')[-2]\n",
    "\n",
    "test = pd.read_pickle(url_1)\n",
    "test.head()"
   ]
  },
  {
   "cell_type": "code",
   "execution_count": 4,
   "id": "6ab444b3",
   "metadata": {},
   "outputs": [
    {
     "name": "stderr",
     "output_type": "stream",
     "text": [
      "Downloading...\n",
      "From (uriginal): https://drive.google.com/uc?id=1iI0Nia86HTiQ4Xg4GOvHK3My7JwfQ5cD\n",
      "From (redirected): https://drive.google.com/uc?id=1iI0Nia86HTiQ4Xg4GOvHK3My7JwfQ5cD&confirm=t&uuid=0466eca2-7780-46a2-abd1-9dd26b21e6af\n",
      "To: C:\\Users\\ChebuTech\\Desktop\\задача Credit Risk\\train.pkl\n",
      "100%|███████████████████████████████████████████████████████████████████████████████| 165M/165M [00:14<00:00, 11.6MB/s]\n"
     ]
    },
    {
     "data": {
      "text/html": [
       "<div>\n",
       "<style scoped>\n",
       "    .dataframe tbody tr th:only-of-type {\n",
       "        vertical-align: middle;\n",
       "    }\n",
       "\n",
       "    .dataframe tbody tr th {\n",
       "        vertical-align: top;\n",
       "    }\n",
       "\n",
       "    .dataframe thead th {\n",
       "        text-align: right;\n",
       "    }\n",
       "</style>\n",
       "<table border=\"1\" class=\"dataframe\">\n",
       "  <thead>\n",
       "    <tr style=\"text-align: right;\">\n",
       "      <th></th>\n",
       "      <th>customer_ID</th>\n",
       "      <th>S_2</th>\n",
       "      <th>P_2</th>\n",
       "      <th>D_39</th>\n",
       "      <th>B_1</th>\n",
       "      <th>B_2</th>\n",
       "      <th>R_1</th>\n",
       "      <th>S_3</th>\n",
       "      <th>D_41</th>\n",
       "      <th>B_3</th>\n",
       "      <th>...</th>\n",
       "      <th>D_137</th>\n",
       "      <th>D_138</th>\n",
       "      <th>D_139</th>\n",
       "      <th>D_140</th>\n",
       "      <th>D_141</th>\n",
       "      <th>D_142</th>\n",
       "      <th>D_143</th>\n",
       "      <th>D_144</th>\n",
       "      <th>D_145</th>\n",
       "      <th>target</th>\n",
       "    </tr>\n",
       "  </thead>\n",
       "  <tbody>\n",
       "    <tr>\n",
       "      <th>0</th>\n",
       "      <td>0000099d6bd597052cdcda90ffabf56573fe9d7c79be5f...</td>\n",
       "      <td>2018-03-13</td>\n",
       "      <td>0.934570</td>\n",
       "      <td>0.009117</td>\n",
       "      <td>0.009384</td>\n",
       "      <td>1.007812</td>\n",
       "      <td>0.006104</td>\n",
       "      <td>0.135010</td>\n",
       "      <td>0.001604</td>\n",
       "      <td>0.007175</td>\n",
       "      <td>...</td>\n",
       "      <td>NaN</td>\n",
       "      <td>NaN</td>\n",
       "      <td>0.007187</td>\n",
       "      <td>0.004234</td>\n",
       "      <td>0.005085</td>\n",
       "      <td>NaN</td>\n",
       "      <td>0.005810</td>\n",
       "      <td>0.002970</td>\n",
       "      <td>0.008530</td>\n",
       "      <td>0</td>\n",
       "    </tr>\n",
       "    <tr>\n",
       "      <th>1</th>\n",
       "      <td>00000fd6641609c6ece5454664794f0340ad84dddce9a2...</td>\n",
       "      <td>2018-03-25</td>\n",
       "      <td>0.880371</td>\n",
       "      <td>0.178101</td>\n",
       "      <td>0.034698</td>\n",
       "      <td>1.003906</td>\n",
       "      <td>0.006912</td>\n",
       "      <td>0.165527</td>\n",
       "      <td>0.005550</td>\n",
       "      <td>0.005070</td>\n",
       "      <td>...</td>\n",
       "      <td>NaN</td>\n",
       "      <td>NaN</td>\n",
       "      <td>0.002981</td>\n",
       "      <td>0.007481</td>\n",
       "      <td>0.007874</td>\n",
       "      <td>NaN</td>\n",
       "      <td>0.003284</td>\n",
       "      <td>0.003170</td>\n",
       "      <td>0.008514</td>\n",
       "      <td>0</td>\n",
       "    </tr>\n",
       "    <tr>\n",
       "      <th>2</th>\n",
       "      <td>00001b22f846c82c51f6e3958ccd81970162bae8b007e8...</td>\n",
       "      <td>2018-03-12</td>\n",
       "      <td>0.880859</td>\n",
       "      <td>0.009705</td>\n",
       "      <td>0.004284</td>\n",
       "      <td>0.812500</td>\n",
       "      <td>0.006451</td>\n",
       "      <td>NaN</td>\n",
       "      <td>0.003796</td>\n",
       "      <td>0.007195</td>\n",
       "      <td>...</td>\n",
       "      <td>NaN</td>\n",
       "      <td>NaN</td>\n",
       "      <td>0.007381</td>\n",
       "      <td>0.006622</td>\n",
       "      <td>0.000965</td>\n",
       "      <td>NaN</td>\n",
       "      <td>0.002201</td>\n",
       "      <td>0.000834</td>\n",
       "      <td>0.003445</td>\n",
       "      <td>0</td>\n",
       "    </tr>\n",
       "    <tr>\n",
       "      <th>3</th>\n",
       "      <td>000084e5023181993c2e1b665ac88dbb1ce9ef621ec537...</td>\n",
       "      <td>2018-03-19</td>\n",
       "      <td>0.824219</td>\n",
       "      <td>0.009773</td>\n",
       "      <td>0.007851</td>\n",
       "      <td>1.001953</td>\n",
       "      <td>0.006886</td>\n",
       "      <td>0.395752</td>\n",
       "      <td>0.002855</td>\n",
       "      <td>0.006134</td>\n",
       "      <td>...</td>\n",
       "      <td>NaN</td>\n",
       "      <td>NaN</td>\n",
       "      <td>0.009399</td>\n",
       "      <td>0.007835</td>\n",
       "      <td>0.000957</td>\n",
       "      <td>NaN</td>\n",
       "      <td>0.009056</td>\n",
       "      <td>0.006943</td>\n",
       "      <td>0.001446</td>\n",
       "      <td>0</td>\n",
       "    </tr>\n",
       "    <tr>\n",
       "      <th>4</th>\n",
       "      <td>000098081fde4fd64bc4d503a5d6f86a0aedc425c96f52...</td>\n",
       "      <td>2018-03-12</td>\n",
       "      <td>0.477051</td>\n",
       "      <td>0.000467</td>\n",
       "      <td>0.009415</td>\n",
       "      <td>1.008789</td>\n",
       "      <td>0.007774</td>\n",
       "      <td>0.267090</td>\n",
       "      <td>0.006126</td>\n",
       "      <td>0.125977</td>\n",
       "      <td>...</td>\n",
       "      <td>NaN</td>\n",
       "      <td>NaN</td>\n",
       "      <td>0.006012</td>\n",
       "      <td>0.005222</td>\n",
       "      <td>0.000937</td>\n",
       "      <td>NaN</td>\n",
       "      <td>0.009789</td>\n",
       "      <td>0.003704</td>\n",
       "      <td>0.006275</td>\n",
       "      <td>0</td>\n",
       "    </tr>\n",
       "  </tbody>\n",
       "</table>\n",
       "<p>5 rows × 191 columns</p>\n",
       "</div>"
      ],
      "text/plain": [
       "                                         customer_ID        S_2       P_2  \\\n",
       "0  0000099d6bd597052cdcda90ffabf56573fe9d7c79be5f... 2018-03-13  0.934570   \n",
       "1  00000fd6641609c6ece5454664794f0340ad84dddce9a2... 2018-03-25  0.880371   \n",
       "2  00001b22f846c82c51f6e3958ccd81970162bae8b007e8... 2018-03-12  0.880859   \n",
       "3  000084e5023181993c2e1b665ac88dbb1ce9ef621ec537... 2018-03-19  0.824219   \n",
       "4  000098081fde4fd64bc4d503a5d6f86a0aedc425c96f52... 2018-03-12  0.477051   \n",
       "\n",
       "       D_39       B_1       B_2       R_1       S_3      D_41       B_3  ...  \\\n",
       "0  0.009117  0.009384  1.007812  0.006104  0.135010  0.001604  0.007175  ...   \n",
       "1  0.178101  0.034698  1.003906  0.006912  0.165527  0.005550  0.005070  ...   \n",
       "2  0.009705  0.004284  0.812500  0.006451       NaN  0.003796  0.007195  ...   \n",
       "3  0.009773  0.007851  1.001953  0.006886  0.395752  0.002855  0.006134  ...   \n",
       "4  0.000467  0.009415  1.008789  0.007774  0.267090  0.006126  0.125977  ...   \n",
       "\n",
       "   D_137  D_138     D_139     D_140     D_141  D_142     D_143     D_144  \\\n",
       "0    NaN    NaN  0.007187  0.004234  0.005085    NaN  0.005810  0.002970   \n",
       "1    NaN    NaN  0.002981  0.007481  0.007874    NaN  0.003284  0.003170   \n",
       "2    NaN    NaN  0.007381  0.006622  0.000965    NaN  0.002201  0.000834   \n",
       "3    NaN    NaN  0.009399  0.007835  0.000957    NaN  0.009056  0.006943   \n",
       "4    NaN    NaN  0.006012  0.005222  0.000937    NaN  0.009789  0.003704   \n",
       "\n",
       "      D_145  target  \n",
       "0  0.008530       0  \n",
       "1  0.008514       0  \n",
       "2  0.003445       0  \n",
       "3  0.001446       0  \n",
       "4  0.006275       0  \n",
       "\n",
       "[5 rows x 191 columns]"
      ]
     },
     "execution_count": 4,
     "metadata": {},
     "output_type": "execute_result"
    }
   ],
   "source": [
    "#url_2='https://drive.google.com/file/d/1iI0Nia86HTiQ4Xg4GOvHK3My7JwfQ5cD/view?usp=drive_link'\n",
    "#url_2='https://drive.google.com/uc?id=' + url_2.split('/')[-2]\n",
    "\n",
    "#train = pd.read_pickle(url_2)\n",
    "#train.head()\n",
    "\n",
    "# в случае ошибки чтения файла train.pkl с google drive, запустить строки ниже (файл будет скачан локально).\n",
    "\n",
    "import gdown\n",
    "url_2='https://drive.google.com/file/d/1iI0Nia86HTiQ4Xg4GOvHK3My7JwfQ5cD/view?usp=drive_link'\n",
    "url_2='https://drive.google.com/uc?id=' + url_2.split('/')[-2]\n",
    "output = 'train.pkl'\n",
    "gdown.download(url_2, output, quiet=False, format='pkl')\n",
    "train = pd.read_pickle(output)\n",
    "train.head()"
   ]
  },
  {
   "cell_type": "code",
   "execution_count": 3,
   "id": "b6f0dbf5",
   "metadata": {},
   "outputs": [],
   "source": [
    "#import joblib\n",
    "\n",
    "#path2 = r\"C:\\Users\\ChebuTech\\Desktop\\задача Credit Risk\\train.pkl\"\n",
    "#train = joblib.load(open(path2, 'rb'))\n",
    "#path1 = r\"C:\\Users\\ChebuTech\\Desktop\\задача Credit Risk\\test.pkl\"\n",
    "#test = joblib.load(open(path1, 'rb'))"
   ]
  },
  {
   "cell_type": "code",
   "execution_count": 4,
   "id": "b142138c",
   "metadata": {},
   "outputs": [
    {
     "data": {
      "text/plain": [
       "Series([], Name: customer_ID, dtype: int64)"
      ]
     },
     "execution_count": 4,
     "metadata": {},
     "output_type": "execute_result"
    }
   ],
   "source": [
    "# customer_ID не имеет дубликатов\n",
    "train['customer_ID'].value_counts().loc[lambda x : x>1]"
   ]
  },
  {
   "cell_type": "code",
   "execution_count": 5,
   "id": "cd48e20a",
   "metadata": {},
   "outputs": [
    {
     "data": {
      "text/plain": [
       "<AxesSubplot:ylabel='Frequency'>"
      ]
     },
     "execution_count": 5,
     "metadata": {},
     "output_type": "execute_result"
    },
    {
     "data": {
      "image/png": "[encoded data removed]",
      "text/plain": [
       "<Figure size 432x288 with 1 Axes>"
      ]
     },
     "metadata": {
      "needs_background": "light"
     },
     "output_type": "display_data"
    }
   ],
   "source": [
    "train['target'].astype(int).plot.hist()"
   ]
  },
  {
   "cell_type": "code",
   "execution_count": 6,
   "id": "fdc037d1",
   "metadata": {},
   "outputs": [
    {
     "name": "stdout",
     "output_type": "stream",
     "text": [
      "<class 'pandas.core.frame.DataFrame'>\n",
      "RangeIndex: 368710 entries, 0 to 368709\n",
      "Columns: 191 entries, customer_ID to target\n",
      "dtypes: category(11), datetime64[ns](1), float16(177), int64(1), object(1)\n",
      "memory usage: 136.8+ MB\n",
      "None\n",
      "<class 'pandas.core.frame.DataFrame'>\n",
      "RangeIndex: 90203 entries, 0 to 90202\n",
      "Columns: 190 entries, customer_ID to D_145\n",
      "dtypes: category(11), datetime64[ns](1), float16(177), object(1)\n",
      "memory usage: 32.8+ MB\n",
      "None\n"
     ]
    }
   ],
   "source": [
    "print(train.info())\n",
    "print(test.info())"
   ]
  },
  {
   "cell_type": "code",
   "execution_count": 7,
   "id": "77f5fd1e",
   "metadata": {},
   "outputs": [
    {
     "data": {
      "text/plain": [
       "customer_ID         0\n",
       "S_2                 0\n",
       "P_2              2520\n",
       "D_39                0\n",
       "B_1                 0\n",
       "                ...  \n",
       "D_142          304099\n",
       "D_143            2258\n",
       "D_144               0\n",
       "D_145            2258\n",
       "target              0\n",
       "Length: 191, dtype: int64"
      ]
     },
     "execution_count": 7,
     "metadata": {},
     "output_type": "execute_result"
    }
   ],
   "source": [
    "#train.isnull().sum()\n",
    "train.isna().sum()"
   ]
  },
  {
   "cell_type": "code",
   "execution_count": 8,
   "id": "5df4de9d",
   "metadata": {},
   "outputs": [
    {
     "name": "stdout",
     "output_type": "stream",
     "text": [
      "<class 'pandas.core.frame.DataFrame'>\n",
      "RangeIndex: 368710 entries, 0 to 368709\n",
      "Data columns (total 11 columns):\n",
      " #   Column  Non-Null Count   Dtype   \n",
      "---  ------  --------------   -----   \n",
      " 0   B_30    368679 non-null  category\n",
      " 1   B_38    368679 non-null  category\n",
      " 2   D_114   363991 non-null  category\n",
      " 3   D_116   363991 non-null  category\n",
      " 4   D_117   363991 non-null  category\n",
      " 5   D_120   363991 non-null  category\n",
      " 6   D_126   368710 non-null  category\n",
      " 7   D_63    368710 non-null  category\n",
      " 8   D_64    368710 non-null  category\n",
      " 9   D_66    42492 non-null   category\n",
      " 10  D_68    361511 non-null  category\n",
      "dtypes: category(11)\n",
      "memory usage: 3.9 MB\n"
     ]
    }
   ],
   "source": [
    "categories = ['B_30', 'B_38', 'D_114', 'D_116', 'D_117', 'D_120', 'D_126', 'D_63', 'D_64', 'D_66', 'D_68']\n",
    "train[categories].info()"
   ]
  },
  {
   "cell_type": "code",
   "execution_count": 4,
   "id": "ac48467b",
   "metadata": {},
   "outputs": [
    {
     "name": "stdout",
     "output_type": "stream",
     "text": [
      "B_30 : [0.0, 1.0, 2.0, NaN]\n",
      "Categories (3, float64): [0.0, 1.0, 2.0]\n",
      "B_38 : [2.0, 1.0, 3.0, 7.0, 5.0, 6.0, 4.0, NaN]\n",
      "Categories (7, float64): [1.0, 2.0, 3.0, 4.0, 5.0, 6.0, 7.0]\n",
      "D_114 : [1.0, 0.0, NaN]\n",
      "Categories (2, float64): [0.0, 1.0]\n",
      "D_116 : [0.0, NaN, 1.0]\n",
      "Categories (2, float64): [0.0, 1.0]\n",
      "D_117 : [4.0, -1.0, 1.0, 2.0, 6.0, 3.0, 5.0, NaN]\n",
      "Categories (7, float64): [-1.0, 1.0, 2.0, 3.0, 4.0, 5.0, 6.0]\n",
      "D_120 : [0.0, 1.0, NaN]\n",
      "Categories (2, float64): [0.0, 1.0]\n",
      "D_126 : [1.0, 0.0]\n",
      "Categories (3, float64): [-1.0, 0.0, 1.0]\n",
      "D_63 : ['CR', 'CO', 'CL', 'XL', 'XZ', 'XM']\n",
      "Categories (6, object): ['CL', 'CO', 'CR', 'XL', 'XM', 'XZ']\n",
      "D_64 : ['O', 'R', 'U', '']\n",
      "Categories (5, object): ['', '-1', 'O', 'R', 'U']\n",
      "D_66 : [NaN, 1.0]\n",
      "Categories (2, float64): [0.0, 1.0]\n",
      "D_68 : [6.0, 3.0, 5.0, 4.0, 2.0, 1.0, NaN]\n",
      "Categories (7, float64): [0.0, 1.0, 2.0, 3.0, 4.0, 5.0, 6.0]\n"
     ]
    }
   ],
   "source": [
    "# список всех унакальных категориальных данных по столбцам.\n",
    "categories_df = train[['B_30', 'B_38', 'D_114', 'D_116', 'D_117', 'D_120', 'D_126', 'D_63', 'D_64', 'D_66', 'D_68']]\n",
    "\n",
    "def find_unique(col):\n",
    "    print(col,\":\",categories_df[col].unique())\n",
    "for col in categories_df.columns:\n",
    "    find_unique(col)"
   ]
  },
  {
   "cell_type": "code",
   "execution_count": 10,
   "id": "87450318",
   "metadata": {},
   "outputs": [
    {
     "data": {
      "text/html": [
       "<div>\n",
       "<style scoped>\n",
       "    .dataframe tbody tr th:only-of-type {\n",
       "        vertical-align: middle;\n",
       "    }\n",
       "\n",
       "    .dataframe tbody tr th {\n",
       "        vertical-align: top;\n",
       "    }\n",
       "\n",
       "    .dataframe thead th {\n",
       "        text-align: right;\n",
       "    }\n",
       "</style>\n",
       "<table border=\"1\" class=\"dataframe\">\n",
       "  <thead>\n",
       "    <tr style=\"text-align: right;\">\n",
       "      <th></th>\n",
       "      <th>B_30</th>\n",
       "      <th>B_38</th>\n",
       "      <th>D_114</th>\n",
       "      <th>D_116</th>\n",
       "      <th>D_117</th>\n",
       "      <th>D_120</th>\n",
       "      <th>D_126</th>\n",
       "      <th>D_63</th>\n",
       "      <th>D_64</th>\n",
       "      <th>D_66</th>\n",
       "      <th>D_68</th>\n",
       "    </tr>\n",
       "  </thead>\n",
       "  <tbody>\n",
       "    <tr>\n",
       "      <th>0</th>\n",
       "      <td>0</td>\n",
       "      <td>1</td>\n",
       "      <td>1</td>\n",
       "      <td>0</td>\n",
       "      <td>4</td>\n",
       "      <td>0</td>\n",
       "      <td>1</td>\n",
       "      <td>2</td>\n",
       "      <td>1</td>\n",
       "      <td>1</td>\n",
       "      <td>5</td>\n",
       "    </tr>\n",
       "    <tr>\n",
       "      <th>1</th>\n",
       "      <td>0</td>\n",
       "      <td>1</td>\n",
       "      <td>1</td>\n",
       "      <td>0</td>\n",
       "      <td>0</td>\n",
       "      <td>0</td>\n",
       "      <td>1</td>\n",
       "      <td>1</td>\n",
       "      <td>1</td>\n",
       "      <td>1</td>\n",
       "      <td>5</td>\n",
       "    </tr>\n",
       "    <tr>\n",
       "      <th>2</th>\n",
       "      <td>0</td>\n",
       "      <td>0</td>\n",
       "      <td>1</td>\n",
       "      <td>0</td>\n",
       "      <td>0</td>\n",
       "      <td>0</td>\n",
       "      <td>1</td>\n",
       "      <td>1</td>\n",
       "      <td>2</td>\n",
       "      <td>1</td>\n",
       "      <td>5</td>\n",
       "    </tr>\n",
       "    <tr>\n",
       "      <th>3</th>\n",
       "      <td>0</td>\n",
       "      <td>1</td>\n",
       "      <td>1</td>\n",
       "      <td>0</td>\n",
       "      <td>1</td>\n",
       "      <td>0</td>\n",
       "      <td>1</td>\n",
       "      <td>1</td>\n",
       "      <td>2</td>\n",
       "      <td>1</td>\n",
       "      <td>5</td>\n",
       "    </tr>\n",
       "    <tr>\n",
       "      <th>4</th>\n",
       "      <td>0</td>\n",
       "      <td>2</td>\n",
       "      <td>0</td>\n",
       "      <td>0</td>\n",
       "      <td>2</td>\n",
       "      <td>0</td>\n",
       "      <td>0</td>\n",
       "      <td>1</td>\n",
       "      <td>2</td>\n",
       "      <td>1</td>\n",
       "      <td>2</td>\n",
       "    </tr>\n",
       "  </tbody>\n",
       "</table>\n",
       "</div>"
      ],
      "text/plain": [
       "   B_30  B_38  D_114  D_116  D_117  D_120  D_126  D_63  D_64  D_66  D_68\n",
       "0     0     1      1      0      4      0      1     2     1     1     5\n",
       "1     0     1      1      0      0      0      1     1     1     1     5\n",
       "2     0     0      1      0      0      0      1     1     2     1     5\n",
       "3     0     1      1      0      1      0      1     1     2     1     5\n",
       "4     0     2      0      0      2      0      0     1     2     1     2"
      ]
     },
     "execution_count": 10,
     "metadata": {},
     "output_type": "execute_result"
    }
   ],
   "source": [
    "# кодирование (encode) категориальных данных в чиловые.\n",
    "from sklearn.preprocessing import LabelEncoder\n",
    "\n",
    "le=LabelEncoder()\n",
    "for col in categories_df.columns:\n",
    "    train[col]=le.fit_transform(train[col])\n",
    "    test[col]=le.fit_transform(test[col])\n",
    "\n",
    "train[categories].head()"
   ]
  },
  {
   "cell_type": "code",
   "execution_count": 11,
   "id": "945a16ac",
   "metadata": {},
   "outputs": [],
   "source": [
    "# замена значений NaN на 0.\n",
    "\n",
    "for i in train.select_dtypes(include=['float16']).columns:\n",
    "    train[i] = train[i].replace(np.nan, 0)\n",
    "for i in test.select_dtypes(include=['float16']).columns:\n",
    "    test[i] = test[i].replace(np.nan, 0)"
   ]
  },
  {
   "cell_type": "code",
   "execution_count": 12,
   "id": "becfc178",
   "metadata": {},
   "outputs": [
    {
     "name": "stdout",
     "output_type": "stream",
     "text": [
      " outlier in  P_2 is 10 %\n",
      " outlier in  D_39 is 10 %\n",
      " outlier in  B_1 is 10 %\n",
      " outlier in  B_2 is 10 %\n",
      " outlier in  R_1 is 10 %\n",
      " outlier in  S_3 is 24 %\n",
      " outlier in  D_41 is 10 %\n",
      " outlier in  B_3 is 10 %\n",
      " outlier in  D_42 is 91 %\n",
      " outlier in  D_43 is 34 %\n",
      " outlier in  D_44 is 10 %\n",
      " outlier in  B_4 is 10 %\n",
      " outlier in  D_45 is 10 %\n",
      " outlier in  B_5 is 10 %\n",
      " outlier in  R_2 is 10 %\n",
      " outlier in  D_46 is 26 %\n",
      " outlier in  D_47 is 10 %\n",
      " outlier in  D_48 is 18 %\n",
      " outlier in  D_49 is 93 %\n",
      " outlier in  B_6 is 10 %\n",
      " outlier in  B_7 is 10 %\n",
      " outlier in  B_8 is 12 %\n",
      " outlier in  D_50 is 62 %\n",
      " outlier in  D_51 is 10 %\n",
      " outlier in  B_9 is 10 %\n",
      " outlier in  R_3 is 10 %\n",
      " outlier in  D_52 is 10 %\n",
      " outlier in  P_3 is 11 %\n",
      " outlier in  B_10 is 10 %\n",
      " outlier in  D_53 is 76 %\n",
      " outlier in  S_5 is 10 %\n",
      " outlier in  B_11 is 10 %\n",
      " outlier in  S_6 is 11 %\n",
      " outlier in  D_54 is 15 %\n",
      " outlier in  R_4 is 10 %\n",
      " outlier in  S_7 is 24 %\n",
      " outlier in  B_12 is 10 %\n",
      " outlier in  S_8 is 10 %\n",
      " outlier in  D_55 is 11 %\n",
      " outlier in  D_56 is 58 %\n",
      " outlier in  B_13 is 10 %\n",
      " outlier in  R_5 is 10 %\n",
      " outlier in  D_58 is 10 %\n",
      " outlier in  S_9 is 44 %\n",
      " outlier in  B_14 is 10 %\n",
      " outlier in  D_59 is 10 %\n",
      " outlier in  D_60 is 10 %\n",
      " outlier in  D_61 is 16 %\n",
      " outlier in  B_15 is 10 %\n",
      " outlier in  S_11 is 10 %\n",
      " outlier in  D_62 is 17 %\n",
      " outlier in  D_65 is 10 %\n",
      " outlier in  B_16 is 10 %\n",
      " outlier in  B_17 is 58 %\n",
      " outlier in  B_18 is 11 %\n",
      " outlier in  B_19 is 10 %\n",
      " outlier in  B_20 is 11 %\n",
      " outlier in  S_12 is 10 %\n",
      " outlier in  R_6 is 10 %\n",
      " outlier in  S_13 is 10 %\n",
      " outlier in  B_21 is 10 %\n",
      " outlier in  D_69 is 10 %\n",
      " outlier in  B_22 is 10 %\n",
      " outlier in  D_70 is 10 %\n",
      " outlier in  D_71 is 10 %\n",
      " outlier in  D_72 is 10 %\n",
      " outlier in  S_15 is 10 %\n",
      " outlier in  B_23 is 10 %\n",
      " outlier in  D_73 is 100 %\n",
      " outlier in  P_4 is 10 %\n",
      " outlier in  D_74 is 10 %\n",
      " outlier in  D_75 is 10 %\n",
      " outlier in  D_76 is 94 %\n",
      " outlier in  B_24 is 10 %\n",
      " outlier in  R_7 is 10 %\n",
      " outlier in  D_77 is 51 %\n",
      " outlier in  B_25 is 10 %\n",
      " outlier in  B_26 is 10 %\n",
      " outlier in  D_78 is 10 %\n",
      " outlier in  D_79 is 10 %\n",
      " outlier in  R_8 is 10 %\n",
      " outlier in  R_9 is 99 %\n",
      " outlier in  S_16 is 10 %\n",
      " outlier in  D_80 is 10 %\n",
      " outlier in  R_10 is 10 %\n",
      " outlier in  R_11 is 10 %\n",
      " outlier in  B_27 is 10 %\n",
      " outlier in  D_81 is 10 %\n",
      " outlier in  D_82 is 80 %\n",
      " outlier in  S_17 is 10 %\n",
      " outlier in  R_12 is 15 %\n",
      " outlier in  B_28 is 10 %\n",
      " outlier in  R_13 is 10 %\n",
      " outlier in  D_83 is 10 %\n",
      " outlier in  R_14 is 10 %\n",
      " outlier in  R_15 is 10 %\n",
      " outlier in  D_84 is 10 %\n",
      " outlier in  R_16 is 10 %\n",
      " outlier in  B_29 is 99 %\n",
      " outlier in  S_18 is 10 %\n",
      " outlier in  D_86 is 10 %\n",
      " outlier in  D_87 is 100 %\n",
      " outlier in  R_17 is 10 %\n",
      " outlier in  R_18 is 10 %\n",
      " outlier in  D_88 is 100 %\n",
      " outlier in  B_31 is 100 %\n",
      " outlier in  S_19 is 10 %\n",
      " outlier in  R_19 is 10 %\n",
      " outlier in  B_32 is 10 %\n",
      " outlier in  S_20 is 10 %\n",
      " outlier in  R_20 is 10 %\n",
      " outlier in  R_21 is 10 %\n",
      " outlier in  B_33 is 14 %\n",
      " outlier in  D_89 is 10 %\n",
      " outlier in  R_22 is 10 %\n",
      " outlier in  R_23 is 10 %\n",
      " outlier in  D_91 is 10 %\n",
      " outlier in  D_92 is 10 %\n",
      " outlier in  D_93 is 10 %\n",
      " outlier in  D_94 is 10 %\n",
      " outlier in  R_24 is 10 %\n",
      " outlier in  R_25 is 10 %\n",
      " outlier in  D_96 is 10 %\n",
      " outlier in  S_22 is 10 %\n",
      " outlier in  S_23 is 10 %\n",
      " outlier in  S_24 is 10 %\n",
      " outlier in  S_25 is 10 %\n",
      " outlier in  S_26 is 10 %\n",
      " outlier in  D_102 is 10 %\n",
      " outlier in  D_103 is 12 %\n",
      " outlier in  D_104 is 10 %\n",
      " outlier in  D_105 is 58 %\n",
      " outlier in  D_106 is 93 %\n",
      " outlier in  D_107 is 10 %\n",
      " outlier in  B_36 is 10 %\n",
      " outlier in  B_37 is 10 %\n",
      " outlier in  R_26 is 93 %\n",
      " outlier in  R_27 is 12 %\n",
      " outlier in  D_108 is 100 %\n",
      " outlier in  D_109 is 10 %\n",
      " outlier in  D_110 is 100 %\n",
      " outlier in  D_111 is 100 %\n",
      " outlier in  B_39 is 100 %\n",
      " outlier in  D_112 is 10 %\n",
      " outlier in  B_40 is 10 %\n",
      " outlier in  S_27 is 30 %\n",
      " outlier in  D_113 is 10 %\n",
      " outlier in  D_115 is 10 %\n",
      " outlier in  D_118 is 10 %\n",
      " outlier in  D_119 is 10 %\n",
      " outlier in  D_121 is 10 %\n",
      " outlier in  D_122 is 10 %\n",
      " outlier in  D_123 is 10 %\n",
      " outlier in  D_124 is 10 %\n",
      " outlier in  D_125 is 10 %\n",
      " outlier in  D_127 is 10 %\n",
      " outlier in  D_128 is 14 %\n",
      " outlier in  D_129 is 12 %\n",
      " outlier in  B_41 is 10 %\n",
      " outlier in  B_42 is 100 %\n",
      " outlier in  D_130 is 10 %\n",
      " outlier in  D_131 is 10 %\n",
      " outlier in  D_132 is 93 %\n",
      " outlier in  D_133 is 10 %\n",
      " outlier in  R_28 is 10 %\n",
      " outlier in  D_134 is 100 %\n",
      " outlier in  D_135 is 100 %\n",
      " outlier in  D_136 is 100 %\n",
      " outlier in  D_137 is 100 %\n",
      " outlier in  D_138 is 100 %\n",
      " outlier in  D_139 is 11 %\n",
      " outlier in  D_140 is 10 %\n",
      " outlier in  D_141 is 10 %\n",
      " outlier in  D_142 is 87 %\n",
      " outlier in  D_143 is 11 %\n",
      " outlier in  D_144 is 10 %\n",
      " outlier in  D_145 is 10 %\n"
     ]
    }
   ],
   "source": [
    "# поиск сильных выбросов (outliers) в численных данных.\n",
    "\n",
    "for i in train.select_dtypes(include=['float16']).columns:\n",
    "    max_thresold=train[i].quantile(0.95)\n",
    "    min_thresold=train[i].quantile(0.05)\n",
    "    train_no_outlier=train[(train[i] < max_thresold) & (train[i] > min_thresold)].shape\n",
    "    print(\" outlier in \",i,\"is\" ,int(((train.shape[0]-train_no_outlier[0])/train.shape[0])*100),\"%\")"
   ]
  },
  {
   "cell_type": "code",
   "execution_count": 5,
   "id": "c91b8b3f",
   "metadata": {},
   "outputs": [
    {
     "data": {
      "text/html": [
       "<div>\n",
       "<style scoped>\n",
       "    .dataframe tbody tr th:only-of-type {\n",
       "        vertical-align: middle;\n",
       "    }\n",
       "\n",
       "    .dataframe tbody tr th {\n",
       "        vertical-align: top;\n",
       "    }\n",
       "\n",
       "    .dataframe thead th {\n",
       "        text-align: right;\n",
       "    }\n",
       "</style>\n",
       "<table border=\"1\" class=\"dataframe\">\n",
       "  <thead>\n",
       "    <tr style=\"text-align: right;\">\n",
       "      <th></th>\n",
       "      <th>customer_ID</th>\n",
       "      <th>S_2</th>\n",
       "      <th>P_2</th>\n",
       "      <th>D_39</th>\n",
       "      <th>B_1</th>\n",
       "      <th>B_2</th>\n",
       "      <th>R_1</th>\n",
       "      <th>S_3</th>\n",
       "      <th>D_41</th>\n",
       "      <th>B_3</th>\n",
       "      <th>...</th>\n",
       "      <th>D_137</th>\n",
       "      <th>D_138</th>\n",
       "      <th>D_139</th>\n",
       "      <th>D_140</th>\n",
       "      <th>D_141</th>\n",
       "      <th>D_142</th>\n",
       "      <th>D_143</th>\n",
       "      <th>D_144</th>\n",
       "      <th>D_145</th>\n",
       "      <th>target</th>\n",
       "    </tr>\n",
       "  </thead>\n",
       "  <tbody>\n",
       "    <tr>\n",
       "      <th>0</th>\n",
       "      <td>0000099d6bd597052cdcda90ffabf56573fe9d7c79be5f...</td>\n",
       "      <td>2018-03-13</td>\n",
       "      <td>0.934570</td>\n",
       "      <td>0.009117</td>\n",
       "      <td>0.009384</td>\n",
       "      <td>1.007812</td>\n",
       "      <td>0.006104</td>\n",
       "      <td>0.135010</td>\n",
       "      <td>0.001604</td>\n",
       "      <td>0.007175</td>\n",
       "      <td>...</td>\n",
       "      <td>NaN</td>\n",
       "      <td>NaN</td>\n",
       "      <td>0.007187</td>\n",
       "      <td>0.004234</td>\n",
       "      <td>0.005085</td>\n",
       "      <td>NaN</td>\n",
       "      <td>0.005810</td>\n",
       "      <td>0.002970</td>\n",
       "      <td>0.008530</td>\n",
       "      <td>0</td>\n",
       "    </tr>\n",
       "    <tr>\n",
       "      <th>1</th>\n",
       "      <td>00000fd6641609c6ece5454664794f0340ad84dddce9a2...</td>\n",
       "      <td>2018-03-25</td>\n",
       "      <td>0.880371</td>\n",
       "      <td>0.178101</td>\n",
       "      <td>0.034698</td>\n",
       "      <td>1.003906</td>\n",
       "      <td>0.006912</td>\n",
       "      <td>0.165527</td>\n",
       "      <td>0.005550</td>\n",
       "      <td>0.005070</td>\n",
       "      <td>...</td>\n",
       "      <td>NaN</td>\n",
       "      <td>NaN</td>\n",
       "      <td>0.002981</td>\n",
       "      <td>0.007481</td>\n",
       "      <td>0.007874</td>\n",
       "      <td>NaN</td>\n",
       "      <td>0.003284</td>\n",
       "      <td>0.003170</td>\n",
       "      <td>0.008514</td>\n",
       "      <td>0</td>\n",
       "    </tr>\n",
       "    <tr>\n",
       "      <th>2</th>\n",
       "      <td>00001b22f846c82c51f6e3958ccd81970162bae8b007e8...</td>\n",
       "      <td>2018-03-12</td>\n",
       "      <td>0.880859</td>\n",
       "      <td>0.009705</td>\n",
       "      <td>0.004284</td>\n",
       "      <td>0.812500</td>\n",
       "      <td>0.006451</td>\n",
       "      <td>NaN</td>\n",
       "      <td>0.003796</td>\n",
       "      <td>0.007195</td>\n",
       "      <td>...</td>\n",
       "      <td>NaN</td>\n",
       "      <td>NaN</td>\n",
       "      <td>0.007381</td>\n",
       "      <td>0.006622</td>\n",
       "      <td>0.000965</td>\n",
       "      <td>NaN</td>\n",
       "      <td>0.002201</td>\n",
       "      <td>0.000834</td>\n",
       "      <td>0.003445</td>\n",
       "      <td>0</td>\n",
       "    </tr>\n",
       "    <tr>\n",
       "      <th>3</th>\n",
       "      <td>000084e5023181993c2e1b665ac88dbb1ce9ef621ec537...</td>\n",
       "      <td>2018-03-19</td>\n",
       "      <td>0.824219</td>\n",
       "      <td>0.009773</td>\n",
       "      <td>0.007851</td>\n",
       "      <td>1.001953</td>\n",
       "      <td>0.006886</td>\n",
       "      <td>0.395752</td>\n",
       "      <td>0.002855</td>\n",
       "      <td>0.006134</td>\n",
       "      <td>...</td>\n",
       "      <td>NaN</td>\n",
       "      <td>NaN</td>\n",
       "      <td>0.009399</td>\n",
       "      <td>0.007835</td>\n",
       "      <td>0.000957</td>\n",
       "      <td>NaN</td>\n",
       "      <td>0.009056</td>\n",
       "      <td>0.006943</td>\n",
       "      <td>0.001446</td>\n",
       "      <td>0</td>\n",
       "    </tr>\n",
       "    <tr>\n",
       "      <th>4</th>\n",
       "      <td>000098081fde4fd64bc4d503a5d6f86a0aedc425c96f52...</td>\n",
       "      <td>2018-03-12</td>\n",
       "      <td>0.477051</td>\n",
       "      <td>0.000467</td>\n",
       "      <td>0.009415</td>\n",
       "      <td>1.008789</td>\n",
       "      <td>0.007774</td>\n",
       "      <td>0.267090</td>\n",
       "      <td>0.006126</td>\n",
       "      <td>0.125977</td>\n",
       "      <td>...</td>\n",
       "      <td>NaN</td>\n",
       "      <td>NaN</td>\n",
       "      <td>0.006012</td>\n",
       "      <td>0.005222</td>\n",
       "      <td>0.000937</td>\n",
       "      <td>NaN</td>\n",
       "      <td>0.009789</td>\n",
       "      <td>0.003704</td>\n",
       "      <td>0.006275</td>\n",
       "      <td>0</td>\n",
       "    </tr>\n",
       "  </tbody>\n",
       "</table>\n",
       "<p>5 rows × 191 columns</p>\n",
       "</div>"
      ],
      "text/plain": [
       "                                         customer_ID        S_2       P_2  \\\n",
       "0  0000099d6bd597052cdcda90ffabf56573fe9d7c79be5f... 2018-03-13  0.934570   \n",
       "1  00000fd6641609c6ece5454664794f0340ad84dddce9a2... 2018-03-25  0.880371   \n",
       "2  00001b22f846c82c51f6e3958ccd81970162bae8b007e8... 2018-03-12  0.880859   \n",
       "3  000084e5023181993c2e1b665ac88dbb1ce9ef621ec537... 2018-03-19  0.824219   \n",
       "4  000098081fde4fd64bc4d503a5d6f86a0aedc425c96f52... 2018-03-12  0.477051   \n",
       "\n",
       "       D_39       B_1       B_2       R_1       S_3      D_41       B_3  ...  \\\n",
       "0  0.009117  0.009384  1.007812  0.006104  0.135010  0.001604  0.007175  ...   \n",
       "1  0.178101  0.034698  1.003906  0.006912  0.165527  0.005550  0.005070  ...   \n",
       "2  0.009705  0.004284  0.812500  0.006451       NaN  0.003796  0.007195  ...   \n",
       "3  0.009773  0.007851  1.001953  0.006886  0.395752  0.002855  0.006134  ...   \n",
       "4  0.000467  0.009415  1.008789  0.007774  0.267090  0.006126  0.125977  ...   \n",
       "\n",
       "   D_137  D_138     D_139     D_140     D_141  D_142     D_143     D_144  \\\n",
       "0    NaN    NaN  0.007187  0.004234  0.005085    NaN  0.005810  0.002970   \n",
       "1    NaN    NaN  0.002981  0.007481  0.007874    NaN  0.003284  0.003170   \n",
       "2    NaN    NaN  0.007381  0.006622  0.000965    NaN  0.002201  0.000834   \n",
       "3    NaN    NaN  0.009399  0.007835  0.000957    NaN  0.009056  0.006943   \n",
       "4    NaN    NaN  0.006012  0.005222  0.000937    NaN  0.009789  0.003704   \n",
       "\n",
       "      D_145  target  \n",
       "0  0.008530       0  \n",
       "1  0.008514       0  \n",
       "2  0.003445       0  \n",
       "3  0.001446       0  \n",
       "4  0.006275       0  \n",
       "\n",
       "[5 rows x 191 columns]"
      ]
     },
     "execution_count": 5,
     "metadata": {},
     "output_type": "execute_result"
    }
   ],
   "source": [
    "# удаление строк с данными, у которых выбросы (outliers) около 10%\n",
    "\n",
    "for i in train.select_dtypes(include=['float16']).columns:\n",
    "    max_thresold=train[i].quantile(0.95)\n",
    "    min_thresold=train[i].quantile(0.05)\n",
    "    train_no_outlier = train[(train[i] < max_thresold) & (train[i] > min_thresold)]\n",
    "\n",
    "train_no_outlier.head()"
   ]
  },
  {
   "cell_type": "code",
   "execution_count": 14,
   "id": "6ff9251f",
   "metadata": {},
   "outputs": [],
   "source": [
    "submission = test['customer_ID']   #  df для подстановки итоговых прогнозов и размещении в папке data.\n",
    "\n",
    "test = test.drop(columns=['customer_ID','S_2'])"
   ]
  },
  {
   "cell_type": "markdown",
   "id": "d0ae429d",
   "metadata": {},
   "source": [
    "### Определение Polynomial features"
   ]
  },
  {
   "cell_type": "code",
   "execution_count": 15,
   "id": "3588e60a",
   "metadata": {},
   "outputs": [
    {
     "name": "stdout",
     "output_type": "stream",
     "text": [
      "Most Positive Correlations:\n",
      " D_58      0.501105\n",
      "D_75      0.501815\n",
      "B_7       0.505208\n",
      "B_3       0.508961\n",
      "D_44      0.517953\n",
      "D_55      0.526420\n",
      "D_61      0.543899\n",
      "B_9       0.551080\n",
      "D_48      0.595863\n",
      "target    1.000000\n",
      "Name: target, dtype: float64\n",
      "\n",
      "Most Negative Correlations:\n",
      " P_2     -0.656619\n",
      "B_2     -0.559961\n",
      "B_18    -0.547421\n",
      "B_33    -0.522445\n",
      "D_112   -0.346210\n",
      "P_3     -0.313004\n",
      "D_77    -0.305351\n",
      "D_62    -0.300023\n",
      "S_25    -0.297591\n",
      "D_47    -0.288488\n",
      "Name: target, dtype: float64\n"
     ]
    }
   ],
   "source": [
    "# Поиск максимальных значений корреляции с сортировкой самых значимых.\n",
    "\n",
    "correlations = train_no_outlier.corr()['target'].sort_values()\n",
    "\n",
    "print('Most Positive Correlations:\\n', correlations.tail(10))\n",
    "print('\\nMost Negative Correlations:\\n', correlations.head(10))"
   ]
  },
  {
   "cell_type": "code",
   "execution_count": 16,
   "id": "ead2d743",
   "metadata": {},
   "outputs": [
    {
     "data": {
      "text/html": [
       "<div>\n",
       "<style scoped>\n",
       "    .dataframe tbody tr th:only-of-type {\n",
       "        vertical-align: middle;\n",
       "    }\n",
       "\n",
       "    .dataframe tbody tr th {\n",
       "        vertical-align: top;\n",
       "    }\n",
       "\n",
       "    .dataframe thead th {\n",
       "        text-align: right;\n",
       "    }\n",
       "</style>\n",
       "<table border=\"1\" class=\"dataframe\">\n",
       "  <thead>\n",
       "    <tr style=\"text-align: right;\">\n",
       "      <th></th>\n",
       "      <th>target</th>\n",
       "      <th>P_2</th>\n",
       "      <th>B_2</th>\n",
       "      <th>B_18</th>\n",
       "      <th>B_33</th>\n",
       "    </tr>\n",
       "  </thead>\n",
       "  <tbody>\n",
       "    <tr>\n",
       "      <th>target</th>\n",
       "      <td>1.000000</td>\n",
       "      <td>-0.649888</td>\n",
       "      <td>-0.558087</td>\n",
       "      <td>-0.546360</td>\n",
       "      <td>-0.520863</td>\n",
       "    </tr>\n",
       "    <tr>\n",
       "      <th>P_2</th>\n",
       "      <td>-0.649888</td>\n",
       "      <td>1.000000</td>\n",
       "      <td>0.580824</td>\n",
       "      <td>0.605643</td>\n",
       "      <td>0.558379</td>\n",
       "    </tr>\n",
       "    <tr>\n",
       "      <th>B_2</th>\n",
       "      <td>-0.558087</td>\n",
       "      <td>0.580824</td>\n",
       "      <td>1.000000</td>\n",
       "      <td>0.860328</td>\n",
       "      <td>0.918616</td>\n",
       "    </tr>\n",
       "    <tr>\n",
       "      <th>B_18</th>\n",
       "      <td>-0.546360</td>\n",
       "      <td>0.605643</td>\n",
       "      <td>0.860328</td>\n",
       "      <td>1.000000</td>\n",
       "      <td>0.863591</td>\n",
       "    </tr>\n",
       "    <tr>\n",
       "      <th>B_33</th>\n",
       "      <td>-0.520863</td>\n",
       "      <td>0.558379</td>\n",
       "      <td>0.918616</td>\n",
       "      <td>0.863591</td>\n",
       "      <td>1.000000</td>\n",
       "    </tr>\n",
       "  </tbody>\n",
       "</table>\n",
       "</div>"
      ],
      "text/plain": [
       "          target       P_2       B_2      B_18      B_33\n",
       "target  1.000000 -0.649888 -0.558087 -0.546360 -0.520863\n",
       "P_2    -0.649888  1.000000  0.580824  0.605643  0.558379\n",
       "B_2    -0.558087  0.580824  1.000000  0.860328  0.918616\n",
       "B_18   -0.546360  0.605643  0.860328  1.000000  0.863591\n",
       "B_33   -0.520863  0.558379  0.918616  0.863591  1.000000"
      ]
     },
     "execution_count": 16,
     "metadata": {},
     "output_type": "execute_result"
    }
   ],
   "source": [
    "# 4 переменные с наибольшими значениями негативной корреляции к столбцу target: P_2, B_2, B_18, B_33.\n",
    "ext_data = train[['target', 'P_2', 'B_2', 'B_18', 'B_33']]\n",
    "ext_data_corrs = ext_data.corr()\n",
    "ext_data_corrs"
   ]
  },
  {
   "cell_type": "code",
   "execution_count": 17,
   "id": "885c7b16",
   "metadata": {},
   "outputs": [
    {
     "data": {
      "text/plain": [
       "Text(0.5, 1.0, 'Correlation Heatmap')"
      ]
     },
     "execution_count": 17,
     "metadata": {},
     "output_type": "execute_result"
    },
    {
     "data": {
      "image/png": "[encoded data removed]",
      "text/plain": [
       "<Figure size 576x432 with 2 Axes>"
      ]
     },
     "metadata": {
      "needs_background": "light"
     },
     "output_type": "display_data"
    }
   ],
   "source": [
    "plt.figure(figsize = (8, 6))\n",
    "\n",
    "# Heatmap of correlations\n",
    "sns.heatmap(ext_data_corrs, cmap = plt.cm.RdYlBu_r, vmin = -0.25, annot = True, vmax = 0.3)\n",
    "plt.title('Correlation Heatmap')"
   ]
  },
  {
   "cell_type": "code",
   "execution_count": 18,
   "id": "b878871e",
   "metadata": {},
   "outputs": [],
   "source": [
    "# Создание новой df с polynomial features\n",
    "poly_features = train_no_outlier[['P_2', 'B_2', 'B_18', 'B_33', 'target']]\n",
    "poly_features_test = test[['P_2', 'B_2', 'B_18', 'B_33']]\n",
    "\n",
    "# SimpleImputer для обработки пропущенных значений.\n",
    "from sklearn.impute import SimpleImputer\n",
    "imputer = SimpleImputer(missing_values=np.nan, strategy='mean')\n",
    "\n",
    "poly_target = poly_features['target']\n",
    "poly_features = poly_features.drop(columns = ['target'])\n",
    "\n",
    "# Добавление недостающих значений\n",
    "poly_features = imputer.fit_transform(poly_features)\n",
    "poly_features_test = imputer.transform(poly_features_test)\n",
    "\n",
    "from sklearn.preprocessing import PolynomialFeatures\n",
    "                                  \n",
    "# Создание полиномиального объекта, возведение в степень.\n",
    "poly_transformer = PolynomialFeatures(degree = 3)"
   ]
  },
  {
   "cell_type": "code",
   "execution_count": 19,
   "id": "4bb3ac4a",
   "metadata": {},
   "outputs": [
    {
     "name": "stdout",
     "output_type": "stream",
     "text": [
      "Polynomial Features shape:  (331721, 35)\n"
     ]
    }
   ],
   "source": [
    "# Train polynomial features\n",
    "poly_transformer.fit(poly_features)\n",
    "\n",
    "# Transform features\n",
    "poly_features = poly_transformer.transform(poly_features)\n",
    "poly_features_test = poly_transformer.transform(poly_features_test)\n",
    "print('Polynomial Features shape: ', poly_features.shape)"
   ]
  },
  {
   "cell_type": "code",
   "execution_count": 20,
   "id": "1de27176",
   "metadata": {},
   "outputs": [
    {
     "data": {
      "text/plain": [
       "['1',\n",
       " 'P_2',\n",
       " 'B_2',\n",
       " 'B_18',\n",
       " 'B_33',\n",
       " 'P_2^2',\n",
       " 'P_2 B_2',\n",
       " 'P_2 B_18',\n",
       " 'P_2 B_33',\n",
       " 'B_2^2',\n",
       " 'B_2 B_18',\n",
       " 'B_2 B_33',\n",
       " 'B_18^2',\n",
       " 'B_18 B_33',\n",
       " 'B_33^2',\n",
       " 'P_2^3',\n",
       " 'P_2^2 B_2',\n",
       " 'P_2^2 B_18',\n",
       " 'P_2^2 B_33',\n",
       " 'P_2 B_2^2',\n",
       " 'P_2 B_2 B_18',\n",
       " 'P_2 B_2 B_33',\n",
       " 'P_2 B_18^2',\n",
       " 'P_2 B_18 B_33',\n",
       " 'P_2 B_33^2',\n",
       " 'B_2^3',\n",
       " 'B_2^2 B_18',\n",
       " 'B_2^2 B_33',\n",
       " 'B_2 B_18^2',\n",
       " 'B_2 B_18 B_33',\n",
       " 'B_2 B_33^2',\n",
       " 'B_18^3',\n",
       " 'B_18^2 B_33',\n",
       " 'B_18 B_33^2',\n",
       " 'B_33^3']"
      ]
     },
     "execution_count": 20,
     "metadata": {},
     "output_type": "execute_result"
    }
   ],
   "source": [
    "# get_feature_names - создаёт множество новых features. \n",
    "# Всего получилось 35 features, возведённых в 3 степень. \n",
    "\n",
    "poly_transformer.get_feature_names(input_features = ['P_2', 'B_2', 'B_18', 'B_33'])"
   ]
  },
  {
   "cell_type": "code",
   "execution_count": 21,
   "id": "016509ee",
   "metadata": {},
   "outputs": [],
   "source": [
    "# Создание dataframe с polynomial features.\n",
    "poly_features = pd.DataFrame(poly_features, \n",
    "                             columns = poly_transformer.get_feature_names(['P_2', 'B_2', 'B_18', 'B_33']))\n",
    "# Add the target\n",
    "poly_features['target'] = poly_target"
   ]
  },
  {
   "cell_type": "code",
   "execution_count": 22,
   "id": "4c207e6c",
   "metadata": {},
   "outputs": [
    {
     "name": "stdout",
     "output_type": "stream",
     "text": [
      "Training data with polynomial features shape:  (331721, 220)\n",
      "Testing data with polynomial features shape:   (90203, 220)\n"
     ]
    }
   ],
   "source": [
    "# Создание df для test polynomial features.\n",
    "poly_features_test = pd.DataFrame(poly_features_test, \n",
    "                                  columns = poly_transformer.get_feature_names(['P_2', 'B_2', 'B_18', 'B_33']))\n",
    "\n",
    "# Добавление polnomial features в training dataframe.\n",
    "poly_features['customer_ID'] = train_no_outlier['customer_ID']\n",
    "app_train_poly = pd.merge(train_no_outlier, poly_features, how = 'left')\n",
    "\n",
    "# Добавление polnomial features в testing dataframe.\n",
    "poly_features_test['customer_ID'] = submission\n",
    "app_test_poly = test.merge(poly_features_test, how = 'left')\n",
    "\n",
    "# Выравнивание (align)  dataframe'ов.\n",
    "app_train_poly, app_test_poly = app_train_poly.align(\n",
    "    app_test_poly.drop_duplicates(subset=['customer_ID']), join = 'inner', axis = 1)\n",
    "\n",
    "print('Training data with polynomial features shape: ', app_train_poly.shape)\n",
    "print('Testing data with polynomial features shape:  ', app_test_poly.shape)"
   ]
  },
  {
   "cell_type": "code",
   "execution_count": null,
   "id": "174dcb16",
   "metadata": {},
   "outputs": [],
   "source": [
    "train_no_outlier"
   ]
  },
  {
   "cell_type": "code",
   "execution_count": 23,
   "id": "33301a61",
   "metadata": {},
   "outputs": [],
   "source": [
    "X = app_train_poly.drop(columns=['customer_ID'])\n",
    "y = train_no_outlier['target']\n",
    "\n",
    "app_test_poly = app_test_poly.drop(columns=['customer_ID'])"
   ]
  },
  {
   "cell_type": "code",
   "execution_count": 24,
   "id": "8e1eb0c4",
   "metadata": {},
   "outputs": [
    {
     "name": "stdout",
     "output_type": "stream",
     "text": [
      "(248790, 219) (248790,)\n",
      "(82931, 219) (82931,)\n"
     ]
    }
   ],
   "source": [
    "x_train,x_test,y_train,y_test = train_test_split(X, y, test_size=0.25, random_state = 7)\n",
    "print(x_train.shape, y_train.shape)\n",
    "print(x_test.shape, y_test.shape)"
   ]
  },
  {
   "cell_type": "markdown",
   "id": "a602ffe8",
   "metadata": {},
   "source": [
    "### Подбор оптимальных параметров для модели с использованием Optuna"
   ]
  },
  {
   "cell_type": "code",
   "execution_count": 82,
   "id": "378700e9",
   "metadata": {},
   "outputs": [
    {
     "name": "stderr",
     "output_type": "stream",
     "text": [
      "\u001b[32m[I 2023-09-15 10:09:54,156]\u001b[0m A new study created in memory with name: no-name-e2d6e68e-c8a9-42a2-bab3-ec35d1ffcc20\u001b[0m\n",
      "\u001b[32m[I 2023-09-15 10:12:42,991]\u001b[0m Trial 0 finished with value: 0.9150980935958809 and parameters: {'learning_rate': 0.025935469828523468, 'depth': 8, 'l2_leaf_reg': 5.786245352105927, 'max_bin': 285, 'random_state': 78, 'min_data_in_leaf': 168, 'colsample_bylevel': 0.07880937863677857, 'bootstrap_type': 'Bayesian', 'bagging_temperature': 5.174542841658254}. Best is trial 0 with value: 0.9150980935958809.\u001b[0m\n",
      "\u001b[32m[I 2023-09-15 10:15:57,668]\u001b[0m Trial 1 finished with value: 0.9177750177858702 and parameters: {'learning_rate': 0.03760440553957428, 'depth': 8, 'l2_leaf_reg': 0.2258640551819445, 'max_bin': 391, 'random_state': 78, 'min_data_in_leaf': 225, 'colsample_bylevel': 0.08775462528539855, 'bootstrap_type': 'Bayesian', 'bagging_temperature': 2.8683887062930715}. Best is trial 1 with value: 0.9177750177858702.\u001b[0m\n",
      "\u001b[32m[I 2023-09-15 10:17:49,249]\u001b[0m Trial 2 finished with value: 0.9174012130566375 and parameters: {'learning_rate': 0.044847284456893184, 'depth': 4, 'l2_leaf_reg': 4.53496363113697, 'max_bin': 245, 'random_state': 78, 'min_data_in_leaf': 17, 'colsample_bylevel': 0.028286708697251514, 'bootstrap_type': 'Bernoulli', 'subsample': 0.3092821798794093}. Best is trial 1 with value: 0.9177750177858702.\u001b[0m\n",
      "\u001b[32m[I 2023-09-15 10:19:15,742]\u001b[0m Trial 3 finished with value: 0.9160024598762827 and parameters: {'learning_rate': 0.038237622513454445, 'depth': 3, 'l2_leaf_reg': 0.18650824715902078, 'max_bin': 210, 'random_state': 78, 'min_data_in_leaf': 42, 'colsample_bylevel': 0.0431618076858076, 'bootstrap_type': 'Bernoulli', 'subsample': 0.23090138286223189}. Best is trial 1 with value: 0.9177750177858702.\u001b[0m\n",
      "\u001b[32m[I 2023-09-15 10:20:50,417]\u001b[0m Trial 4 finished with value: 0.9141213780130469 and parameters: {'learning_rate': 0.03659731472772898, 'depth': 2, 'l2_leaf_reg': 0.048926831464825765, 'max_bin': 288, 'random_state': 78, 'min_data_in_leaf': 103, 'colsample_bylevel': 0.086958107577404, 'bootstrap_type': 'Bayesian', 'bagging_temperature': 2.3262294503320193}. Best is trial 1 with value: 0.9177750177858702.\u001b[0m\n",
      "\u001b[32m[I 2023-09-15 10:22:15,074]\u001b[0m Trial 5 finished with value: 0.9051018316431733 and parameters: {'learning_rate': 0.013175508695856732, 'depth': 2, 'l2_leaf_reg': 2.0938140633449556, 'max_bin': 238, 'random_state': 78, 'min_data_in_leaf': 180, 'colsample_bylevel': 0.055736593452219915, 'bootstrap_type': 'Bayesian', 'bagging_temperature': 6.2291099076183345}. Best is trial 1 with value: 0.9177750177858702.\u001b[0m\n",
      "\u001b[32m[I 2023-09-15 10:24:58,815]\u001b[0m Trial 6 finished with value: 0.9184864525931196 and parameters: {'learning_rate': 0.03143824008975681, 'depth': 7, 'l2_leaf_reg': 1.0538148270547032, 'max_bin': 309, 'random_state': 78, 'min_data_in_leaf': 194, 'colsample_bylevel': 0.09831282105294939, 'bootstrap_type': 'Bernoulli', 'subsample': 0.4318715651699597}. Best is trial 6 with value: 0.9184864525931196.\u001b[0m\n",
      "\u001b[32m[I 2023-09-15 10:27:59,598]\u001b[0m Trial 7 finished with value: 0.9182091136004631 and parameters: {'learning_rate': 0.04547535390185519, 'depth': 8, 'l2_leaf_reg': 0.021587429067928827, 'max_bin': 400, 'random_state': 78, 'min_data_in_leaf': 199, 'colsample_bylevel': 0.0565574960665046, 'bootstrap_type': 'Bayesian', 'bagging_temperature': 1.5740606042639804}. Best is trial 6 with value: 0.9184864525931196.\u001b[0m\n",
      "\u001b[32m[I 2023-09-15 10:29:24,101]\u001b[0m Trial 8 finished with value: 0.8697953720562878 and parameters: {'learning_rate': 0.0038639654663897337, 'depth': 1, 'l2_leaf_reg': 0.012547382932929679, 'max_bin': 306, 'random_state': 78, 'min_data_in_leaf': 61, 'colsample_bylevel': 0.022179183162584375, 'bootstrap_type': 'Bernoulli', 'subsample': 0.666944724962749}. Best is trial 6 with value: 0.9184864525931196.\u001b[0m\n",
      "\u001b[32m[I 2023-09-15 10:31:30,057]\u001b[0m Trial 9 finished with value: 0.9118544332035066 and parameters: {'learning_rate': 0.004561825691634611, 'depth': 6, 'l2_leaf_reg': 0.37733406492324445, 'max_bin': 237, 'random_state': 78, 'min_data_in_leaf': 136, 'colsample_bylevel': 0.07501524793305543, 'bootstrap_type': 'Bernoulli', 'subsample': 0.9322501182034466}. Best is trial 6 with value: 0.9184864525931196.\u001b[0m\n",
      "Training has stopped (degenerate solution on iteration 342, probably too small l2-regularization, try to increase it)\n",
      "\u001b[32m[I 2023-09-15 10:33:13,581]\u001b[0m Trial 10 finished with value: 0.916135100264075 and parameters: {'learning_rate': 0.023484316962219507, 'depth': 6, 'l2_leaf_reg': 0.0011501621377000208, 'max_bin': 329, 'random_state': 78, 'min_data_in_leaf': 274, 'colsample_bylevel': 0.09676795506715427, 'bootstrap_type': 'Bernoulli', 'subsample': 0.49595180791679616}. Best is trial 6 with value: 0.9184864525931196.\u001b[0m\n",
      "\u001b[32m[I 2023-09-15 10:35:22,980]\u001b[0m Trial 11 finished with value: 0.9138440390203905 and parameters: {'learning_rate': 0.04548707439581745, 'depth': 6, 'l2_leaf_reg': 0.015419787840320767, 'max_bin': 397, 'random_state': 78, 'min_data_in_leaf': 231, 'colsample_bylevel': 0.061218612987920286, 'bootstrap_type': 'Bayesian', 'bagging_temperature': 9.067938654695569}. Best is trial 6 with value: 0.9184864525931196.\u001b[0m\n",
      "\u001b[32m[I 2023-09-15 10:36:56,182]\u001b[0m Trial 12 finished with value: 0.9157130626665542 and parameters: {'learning_rate': 0.026880126825906847, 'depth': 7, 'l2_leaf_reg': 0.9377034913789529, 'max_bin': 357, 'random_state': 78, 'min_data_in_leaf': 211, 'colsample_bylevel': 0.011425190046448153, 'bootstrap_type': 'Bayesian', 'bagging_temperature': 0.023207780901448594}. Best is trial 6 with value: 0.9184864525931196.\u001b[0m\n",
      "\u001b[32m[I 2023-09-15 10:39:00,924]\u001b[0m Trial 13 finished with value: 0.9191134798808648 and parameters: {'learning_rate': 0.04981857687678859, 'depth': 8, 'l2_leaf_reg': 0.002346494440776257, 'max_bin': 355, 'random_state': 78, 'min_data_in_leaf': 293, 'colsample_bylevel': 0.04172050142832093, 'bootstrap_type': 'Bernoulli', 'subsample': 0.5698230114374581}. Best is trial 13 with value: 0.9191134798808648.\u001b[0m\n",
      "\u001b[32m[I 2023-09-15 10:40:35,010]\u001b[0m Trial 14 finished with value: 0.9158215866202023 and parameters: {'learning_rate': 0.01864454322209909, 'depth': 5, 'l2_leaf_reg': 0.0012810327136038985, 'max_bin': 347, 'random_state': 78, 'min_data_in_leaf': 284, 'colsample_bylevel': 0.038349221079545394, 'bootstrap_type': 'Bernoulli', 'subsample': 0.5714139224789404}. Best is trial 13 with value: 0.9191134798808648.\u001b[0m\n",
      "\u001b[32m[I 2023-09-15 10:42:38,608]\u001b[0m Trial 15 finished with value: 0.9191134798808648 and parameters: {'learning_rate': 0.049796385746652135, 'depth': 7, 'l2_leaf_reg': 0.0025941490249486673, 'max_bin': 318, 'random_state': 78, 'min_data_in_leaf': 299, 'colsample_bylevel': 0.06836569513673486, 'bootstrap_type': 'Bernoulli', 'subsample': 0.4043873507481467}. Best is trial 13 with value: 0.9191134798808648.\u001b[0m\n",
      "\u001b[32m[I 2023-09-15 10:44:51,865]\u001b[0m Trial 16 finished with value: 0.9190049559272166 and parameters: {'learning_rate': 0.04906417386270966, 'depth': 7, 'l2_leaf_reg': 0.004167246267952476, 'max_bin': 366, 'random_state': 78, 'min_data_in_leaf': 256, 'colsample_bylevel': 0.06742752480246586, 'bootstrap_type': 'Bernoulli', 'subsample': 0.7464193157439438}. Best is trial 13 with value: 0.9191134798808648.\u001b[0m\n",
      "\u001b[32m[I 2023-09-15 10:46:24,747]\u001b[0m Trial 17 finished with value: 0.9172926891029892 and parameters: {'learning_rate': 0.04995240496424582, 'depth': 5, 'l2_leaf_reg': 0.0037646474706619693, 'max_bin': 340, 'random_state': 78, 'min_data_in_leaf': 297, 'colsample_bylevel': 0.045650248049287655, 'bootstrap_type': 'Bernoulli', 'subsample': 0.10067633115263863}. Best is trial 13 with value: 0.9191134798808648.\u001b[0m\n",
      "\u001b[32m[I 2023-09-15 10:48:08,977]\u001b[0m Trial 18 finished with value: 0.9182332300346071 and parameters: {'learning_rate': 0.04015756105714665, 'depth': 7, 'l2_leaf_reg': 0.0050437894989928105, 'max_bin': 322, 'random_state': 78, 'min_data_in_leaf': 249, 'colsample_bylevel': 0.03382934838758538, 'bootstrap_type': 'Bernoulli', 'subsample': 0.3713289066824321}. Best is trial 13 with value: 0.9191134798808648.\u001b[0m\n",
      "\u001b[32m[I 2023-09-15 10:49:41,798]\u001b[0m Trial 19 finished with value: 0.9172685726688452 and parameters: {'learning_rate': 0.03234928225368352, 'depth': 4, 'l2_leaf_reg': 0.05455680352143735, 'max_bin': 374, 'random_state': 78, 'min_data_in_leaf': 130, 'colsample_bylevel': 0.05059150371577073, 'bootstrap_type': 'Bernoulli', 'subsample': 0.7955731078035667}. Best is trial 13 with value: 0.9191134798808648.\u001b[0m\n"
     ]
    },
    {
     "name": "stderr",
     "output_type": "stream",
     "text": [
      "\u001b[32m[I 2023-09-15 10:52:04,408]\u001b[0m Trial 20 finished with value: 0.919222003834513 and parameters: {'learning_rate': 0.04242998578162021, 'depth': 8, 'l2_leaf_reg': 0.0025622207976087486, 'max_bin': 273, 'random_state': 78, 'min_data_in_leaf': 296, 'colsample_bylevel': 0.0667345715565686, 'bootstrap_type': 'Bernoulli', 'subsample': 0.57703288120609}. Best is trial 20 with value: 0.919222003834513.\u001b[0m\n",
      "\u001b[32m[I 2023-09-15 10:54:24,535]\u001b[0m Trial 21 finished with value: 0.9188843737564963 and parameters: {'learning_rate': 0.04274818394860333, 'depth': 8, 'l2_leaf_reg': 0.002191985287596433, 'max_bin': 265, 'random_state': 78, 'min_data_in_leaf': 295, 'colsample_bylevel': 0.06804250300360958, 'bootstrap_type': 'Bernoulli', 'subsample': 0.597797680069702}. Best is trial 20 with value: 0.919222003834513.\u001b[0m\n",
      "\u001b[32m[I 2023-09-15 10:56:39,734]\u001b[0m Trial 22 finished with value: 0.9191134798808648 and parameters: {'learning_rate': 0.049428575319927115, 'depth': 8, 'l2_leaf_reg': 0.006294734780441238, 'max_bin': 273, 'random_state': 78, 'min_data_in_leaf': 267, 'colsample_bylevel': 0.06574937833734838, 'bootstrap_type': 'Bernoulli', 'subsample': 0.48997190652583156}. Best is trial 20 with value: 0.919222003834513.\u001b[0m\n",
      "\u001b[32m[I 2023-09-15 10:58:55,168]\u001b[0m Trial 23 finished with value: 0.9196440414320338 and parameters: {'learning_rate': 0.04350667172323587, 'depth': 8, 'l2_leaf_reg': 0.008793451042115933, 'max_bin': 270, 'random_state': 78, 'min_data_in_leaf': 261, 'colsample_bylevel': 0.06112511689173349, 'bootstrap_type': 'Bernoulli', 'subsample': 0.5426492568692888}. Best is trial 23 with value: 0.9196440414320338.\u001b[0m\n",
      "\u001b[32m[I 2023-09-15 11:01:32,843]\u001b[0m Trial 24 finished with value: 0.9189808394930725 and parameters: {'learning_rate': 0.04115495422335362, 'depth': 7, 'l2_leaf_reg': 0.009765333353271202, 'max_bin': 259, 'random_state': 78, 'min_data_in_leaf': 240, 'colsample_bylevel': 0.08072246121527352, 'bootstrap_type': 'Bernoulli', 'subsample': 0.6996987775331307}. Best is trial 23 with value: 0.9196440414320338.\u001b[0m\n"
     ]
    },
    {
     "name": "stdout",
     "output_type": "stream",
     "text": [
      "Number of finished trials: 25\n",
      "Best trial:\n",
      "  Value: 0.9196440414320338\n",
      "  Params: \n",
      "    learning_rate: 0.04350667172323587\n",
      "    depth: 8\n",
      "    l2_leaf_reg: 0.008793451042115933\n",
      "    max_bin: 270\n",
      "    random_state: 78\n",
      "    min_data_in_leaf: 261\n",
      "    colsample_bylevel: 0.06112511689173349\n",
      "    bootstrap_type: Bernoulli\n",
      "    subsample: 0.5426492568692888\n"
     ]
    }
   ],
   "source": [
    "import optuna\n",
    "from sklearn.metrics import accuracy_score,classification_report\n",
    "\n",
    "cat_features = ['B_30', 'B_38', 'D_114', 'D_116', 'D_117', 'D_120', 'D_126', 'D_63', 'D_64', 'D_66', 'D_68']\n",
    "\n",
    "def objective(trial):\n",
    "    param = {\n",
    "        \"objective\": \"Logloss\",\n",
    "        \"learning_rate\": trial.suggest_uniform(\"learning_rate\", 0.001, 0.05),\n",
    "        \"depth\": trial.suggest_int(\"depth\", 1, 8),\n",
    "        \"l2_leaf_reg\": trial.suggest_loguniform(\"l2_leaf_reg\", 1e-3, 10.0),\n",
    "        \"used_ram_limit\": \"6gb\",\n",
    "        \"max_bin\": trial.suggest_int(\"max_bin\", 200, 400),\n",
    "        'random_state': trial.suggest_categorical('random_state', [78]),\n",
    "        'min_data_in_leaf': trial.suggest_int('min_data_in_leaf', 1, 300),\n",
    "        \"colsample_bylevel\": trial.suggest_float(\"colsample_bylevel\", 0.01, 0.1),\n",
    "        \"eval_metric\" : \"AUC\",\n",
    "        \"n_estimators\": 500,\n",
    "        \"bootstrap_type\": trial.suggest_categorical(\n",
    "            \"bootstrap_type\", [\"Bayesian\", \"Bernoulli\"]  #'Poisson', 'MVS'\n",
    "        #\"max_depth\": trial.suggest_categorical(\"max_depth\", [5,7,9,11,13,15]),\n",
    "        #\"boosting_type\": trial.suggest_categorical(\"boosting_type\", [\"Ordered\", \"Plain\"]),\n",
    "        #\"task_type\": \"GPU\"\n",
    "        ),\n",
    "    }\n",
    "\n",
    "    if param[\"bootstrap_type\"] == \"Bayesian\":\n",
    "        param[\"bagging_temperature\"] = trial.suggest_float(\"bagging_temperature\", 0, 10)\n",
    "    elif param[\"bootstrap_type\"] == \"Bernoulli\":\n",
    "        param[\"subsample\"] = trial.suggest_float(\"subsample\", 0.1, 1)\n",
    "\n",
    "    cat_cls = CatBoostClassifier(**param)\n",
    "\n",
    "    cat_cls.fit(x_train, y_train, eval_set=[(x_test, y_test)], cat_features=cat_features,verbose=0, early_stopping_rounds=100)\n",
    "\n",
    "    preds = cat_cls.predict(x_test)\n",
    "    pred_labels = np.rint(preds)\n",
    "    accuracy = accuracy_score(y_test, pred_labels)\n",
    "    return accuracy\n",
    "\n",
    "\n",
    "if __name__ == \"__main__\":\n",
    "    study = optuna.create_study(direction=\"maximize\")\n",
    "    study.optimize(objective, n_trials=50, timeout=3000)\n",
    "\n",
    "    print(\"Number of finished trials: {}\".format(len(study.trials)))\n",
    "    print(\"Best trial:\")\n",
    "    trial = study.best_trial\n",
    "\n",
    "    print(\"  Value: {}\".format(trial.value))\n",
    "    print(\"  Params: \")\n",
    "    for key, value in trial.params.items():\n",
    "        print(\"    {}: {}\".format(key, value))"
   ]
  },
  {
   "cell_type": "code",
   "execution_count": null,
   "id": "0b9021e3",
   "metadata": {},
   "outputs": [],
   "source": [
    "# Динамика оптимизации: показывает результаты всех испытаний, а также лучший результат в каждой точке.\n",
    "optuna.visualization.plot_optimization_history(study)\n",
    "# Параллельные координаты: визуализация гиперпараметров и их оценка.\n",
    "optuna.visualization.plot_parallel_coordinate(study)\n",
    "# Parameter importances.\n",
    "optuna.visualization.plot_param_importances(study)"
   ]
  },
  {
   "cell_type": "code",
   "execution_count": 31,
   "id": "fa3db42b",
   "metadata": {},
   "outputs": [
    {
     "data": {
      "application/vnd.jupyter.widget-view+json": {
       "model_id": "b44489b73ecb46ed803ebbcb40459150",
       "version_major": 2,
       "version_minor": 0
      },
      "text/plain": [
       "MetricVisualizer(layout=Layout(align_self='stretch', height='500px'))"
      ]
     },
     "metadata": {},
     "output_type": "display_data"
    },
    {
     "name": "stderr",
     "output_type": "stream",
     "text": [
      "Warning: Overfitting detector is active, thus evaluation metric is calculated on every iteration. 'metric_period' is ignored for evaluation metric.\n"
     ]
    },
    {
     "name": "stdout",
     "output_type": "stream",
     "text": [
      "0:\ttest: 0.9323423\tbest: 0.9323423 (0)\ttotal: 261ms\tremaining: 2m 10s\n",
      "50:\ttest: 0.9556726\tbest: 0.9556726 (50)\ttotal: 12.3s\tremaining: 1m 48s\n",
      "100:\ttest: 0.9578111\tbest: 0.9578111 (100)\ttotal: 23.5s\tremaining: 1m 32s\n",
      "150:\ttest: 0.9589119\tbest: 0.9589119 (150)\ttotal: 34.9s\tremaining: 1m 20s\n",
      "200:\ttest: 0.9595223\tbest: 0.9595223 (200)\ttotal: 45.8s\tremaining: 1m 8s\n",
      "250:\ttest: 0.9598968\tbest: 0.9598968 (250)\ttotal: 56.8s\tremaining: 56.3s\n",
      "300:\ttest: 0.9603043\tbest: 0.9603043 (300)\ttotal: 1m 9s\tremaining: 46s\n",
      "350:\ttest: 0.9605714\tbest: 0.9605714 (350)\ttotal: 1m 21s\tremaining: 34.6s\n",
      "Stopped by overfitting detector  (5 iterations wait)\n",
      "\n",
      "bestTest = 0.9606564937\n",
      "bestIteration = 365\n",
      "\n",
      "Shrink model to first 366 iterations.\n"
     ]
    },
    {
     "data": {
      "application/vnd.jupyter.widget-view+json": {
       "model_id": "356f91d4fa6347a5a1537b98d88c6252",
       "version_major": 2,
       "version_minor": 0
      },
      "text/plain": [
       "MetricVisualizer(layout=Layout(align_self='stretch', height='500px'))"
      ]
     },
     "metadata": {},
     "output_type": "display_data"
    },
    {
     "name": "stderr",
     "output_type": "stream",
     "text": [
      "Warning: Overfitting detector is active, thus evaluation metric is calculated on every iteration. 'metric_period' is ignored for evaluation metric.\n"
     ]
    },
    {
     "name": "stdout",
     "output_type": "stream",
     "text": [
      "0:\ttest: 0.9256059\tbest: 0.9256059 (0)\ttotal: 248ms\tremaining: 2m 3s\n",
      "50:\ttest: 0.9526784\tbest: 0.9526784 (50)\ttotal: 12.2s\tremaining: 1m 47s\n",
      "100:\ttest: 0.9550102\tbest: 0.9550102 (100)\ttotal: 23.4s\tremaining: 1m 32s\n",
      "150:\ttest: 0.9561188\tbest: 0.9561188 (150)\ttotal: 34.9s\tremaining: 1m 20s\n",
      "200:\ttest: 0.9568429\tbest: 0.9568429 (200)\ttotal: 46.1s\tremaining: 1m 8s\n",
      "250:\ttest: 0.9573000\tbest: 0.9573000 (250)\ttotal: 57s\tremaining: 56.5s\n",
      "300:\ttest: 0.9576506\tbest: 0.9576506 (300)\ttotal: 1m 8s\tremaining: 45.1s\n",
      "350:\ttest: 0.9579278\tbest: 0.9579278 (350)\ttotal: 1m 20s\tremaining: 34.2s\n",
      "400:\ttest: 0.9581459\tbest: 0.9581459 (400)\ttotal: 1m 31s\tremaining: 22.7s\n",
      "450:\ttest: 0.9583023\tbest: 0.9583023 (450)\ttotal: 1m 44s\tremaining: 11.3s\n",
      "Stopped by overfitting detector  (5 iterations wait)\n",
      "\n",
      "bestTest = 0.9583470786\n",
      "bestIteration = 460\n",
      "\n",
      "Shrink model to first 461 iterations.\n"
     ]
    },
    {
     "data": {
      "application/vnd.jupyter.widget-view+json": {
       "model_id": "0ba7b37985c54b6aa1c520b91285c3ef",
       "version_major": 2,
       "version_minor": 0
      },
      "text/plain": [
       "MetricVisualizer(layout=Layout(align_self='stretch', height='500px'))"
      ]
     },
     "metadata": {},
     "output_type": "display_data"
    },
    {
     "name": "stderr",
     "output_type": "stream",
     "text": [
      "Warning: Overfitting detector is active, thus evaluation metric is calculated on every iteration. 'metric_period' is ignored for evaluation metric.\n"
     ]
    },
    {
     "name": "stdout",
     "output_type": "stream",
     "text": [
      "0:\ttest: 0.9327504\tbest: 0.9327504 (0)\ttotal: 259ms\tremaining: 2m 9s\n",
      "50:\ttest: 0.9551470\tbest: 0.9551470 (50)\ttotal: 13.5s\tremaining: 1m 59s\n",
      "100:\ttest: 0.9573806\tbest: 0.9573806 (100)\ttotal: 25.4s\tremaining: 1m 40s\n",
      "150:\ttest: 0.9584302\tbest: 0.9584302 (150)\ttotal: 37.5s\tremaining: 1m 26s\n",
      "200:\ttest: 0.9589554\tbest: 0.9589554 (200)\ttotal: 50.9s\tremaining: 1m 15s\n",
      "250:\ttest: 0.9593490\tbest: 0.9593490 (250)\ttotal: 1m 2s\tremaining: 1m 2s\n",
      "300:\ttest: 0.9596654\tbest: 0.9596654 (300)\ttotal: 1m 14s\tremaining: 49.2s\n",
      "350:\ttest: 0.9598812\tbest: 0.9598812 (350)\ttotal: 1m 27s\tremaining: 37.3s\n",
      "400:\ttest: 0.9600867\tbest: 0.9600867 (400)\ttotal: 1m 41s\tremaining: 25s\n",
      "Stopped by overfitting detector  (5 iterations wait)\n",
      "\n",
      "bestTest = 0.9601256348\n",
      "bestIteration = 405\n",
      "\n",
      "Shrink model to first 406 iterations.\n"
     ]
    },
    {
     "data": {
      "application/vnd.jupyter.widget-view+json": {
       "model_id": "165fe571912b4cb78191ebe8af1f0d00",
       "version_major": 2,
       "version_minor": 0
      },
      "text/plain": [
       "MetricVisualizer(layout=Layout(align_self='stretch', height='500px'))"
      ]
     },
     "metadata": {},
     "output_type": "display_data"
    },
    {
     "name": "stderr",
     "output_type": "stream",
     "text": [
      "Warning: Overfitting detector is active, thus evaluation metric is calculated on every iteration. 'metric_period' is ignored for evaluation metric.\n"
     ]
    },
    {
     "name": "stdout",
     "output_type": "stream",
     "text": [
      "0:\ttest: 0.9307430\tbest: 0.9307430 (0)\ttotal: 249ms\tremaining: 2m 4s\n",
      "50:\ttest: 0.9531055\tbest: 0.9531055 (50)\ttotal: 12.6s\tremaining: 1m 51s\n",
      "100:\ttest: 0.9556964\tbest: 0.9556964 (100)\ttotal: 23.5s\tremaining: 1m 32s\n",
      "150:\ttest: 0.9569153\tbest: 0.9569153 (150)\ttotal: 34.1s\tremaining: 1m 18s\n",
      "200:\ttest: 0.9576640\tbest: 0.9576640 (200)\ttotal: 45s\tremaining: 1m 6s\n",
      "250:\ttest: 0.9581226\tbest: 0.9581237 (249)\ttotal: 56.3s\tremaining: 55.9s\n",
      "300:\ttest: 0.9584499\tbest: 0.9584499 (300)\ttotal: 1m 7s\tremaining: 44.5s\n",
      "350:\ttest: 0.9586960\tbest: 0.9586960 (350)\ttotal: 1m 18s\tremaining: 33.2s\n",
      "400:\ttest: 0.9588630\tbest: 0.9588682 (399)\ttotal: 1m 32s\tremaining: 22.8s\n",
      "Stopped by overfitting detector  (5 iterations wait)\n",
      "\n",
      "bestTest = 0.95899187\n",
      "bestIteration = 441\n",
      "\n",
      "Shrink model to first 442 iterations.\n"
     ]
    },
    {
     "data": {
      "application/vnd.jupyter.widget-view+json": {
       "model_id": "b87724b5f76044e2b56d695a55305210",
       "version_major": 2,
       "version_minor": 0
      },
      "text/plain": [
       "MetricVisualizer(layout=Layout(align_self='stretch', height='500px'))"
      ]
     },
     "metadata": {},
     "output_type": "display_data"
    },
    {
     "name": "stderr",
     "output_type": "stream",
     "text": [
      "Warning: Overfitting detector is active, thus evaluation metric is calculated on every iteration. 'metric_period' is ignored for evaluation metric.\n"
     ]
    },
    {
     "name": "stdout",
     "output_type": "stream",
     "text": [
      "0:\ttest: 0.9319864\tbest: 0.9319864 (0)\ttotal: 227ms\tremaining: 1m 53s\n",
      "50:\ttest: 0.9548119\tbest: 0.9548119 (50)\ttotal: 12.9s\tremaining: 1m 53s\n",
      "100:\ttest: 0.9568382\tbest: 0.9568382 (100)\ttotal: 25.5s\tremaining: 1m 40s\n",
      "150:\ttest: 0.9579939\tbest: 0.9579939 (150)\ttotal: 36s\tremaining: 1m 23s\n",
      "200:\ttest: 0.9587109\tbest: 0.9587109 (200)\ttotal: 47.1s\tremaining: 1m 10s\n",
      "250:\ttest: 0.9591483\tbest: 0.9591483 (250)\ttotal: 57.7s\tremaining: 57.3s\n",
      "300:\ttest: 0.9595041\tbest: 0.9595041 (300)\ttotal: 1m 10s\tremaining: 46.8s\n",
      "350:\ttest: 0.9598374\tbest: 0.9598374 (350)\ttotal: 1m 24s\tremaining: 36.1s\n",
      "400:\ttest: 0.9600504\tbest: 0.9600504 (400)\ttotal: 1m 38s\tremaining: 24.4s\n",
      "Stopped by overfitting detector  (5 iterations wait)\n",
      "\n",
      "bestTest = 0.9601408736\n",
      "bestIteration = 432\n",
      "\n",
      "Shrink model to first 433 iterations.\n"
     ]
    },
    {
     "data": {
      "application/vnd.jupyter.widget-view+json": {
       "model_id": "214edeec0697425f9b6a0172d00d8e3c",
       "version_major": 2,
       "version_minor": 0
      },
      "text/plain": [
       "MetricVisualizer(layout=Layout(align_self='stretch', height='500px'))"
      ]
     },
     "metadata": {},
     "output_type": "display_data"
    },
    {
     "name": "stderr",
     "output_type": "stream",
     "text": [
      "Warning: Overfitting detector is active, thus evaluation metric is calculated on every iteration. 'metric_period' is ignored for evaluation metric.\n"
     ]
    },
    {
     "name": "stdout",
     "output_type": "stream",
     "text": [
      "0:\ttest: 0.9315350\tbest: 0.9315350 (0)\ttotal: 295ms\tremaining: 2m 27s\n",
      "50:\ttest: 0.9540751\tbest: 0.9540751 (50)\ttotal: 14.1s\tremaining: 2m 3s\n",
      "100:\ttest: 0.9564582\tbest: 0.9564582 (100)\ttotal: 28.6s\tremaining: 1m 52s\n",
      "150:\ttest: 0.9574599\tbest: 0.9574599 (150)\ttotal: 43.3s\tremaining: 1m 40s\n",
      "200:\ttest: 0.9580468\tbest: 0.9580468 (200)\ttotal: 58.1s\tremaining: 1m 26s\n",
      "250:\ttest: 0.9584797\tbest: 0.9584797 (250)\ttotal: 1m 13s\tremaining: 1m 12s\n",
      "300:\ttest: 0.9587881\tbest: 0.9587881 (300)\ttotal: 1m 25s\tremaining: 56.8s\n",
      "350:\ttest: 0.9591361\tbest: 0.9591361 (350)\ttotal: 1m 39s\tremaining: 42.4s\n",
      "400:\ttest: 0.9593322\tbest: 0.9593335 (399)\ttotal: 1m 52s\tremaining: 27.7s\n",
      "Stopped by overfitting detector  (5 iterations wait)\n",
      "\n",
      "bestTest = 0.9593557628\n",
      "bestIteration = 404\n",
      "\n",
      "Shrink model to first 405 iterations.\n"
     ]
    },
    {
     "data": {
      "application/vnd.jupyter.widget-view+json": {
       "model_id": "5ea3b367851e4626abd788b8f936239c",
       "version_major": 2,
       "version_minor": 0
      },
      "text/plain": [
       "MetricVisualizer(layout=Layout(align_self='stretch', height='500px'))"
      ]
     },
     "metadata": {},
     "output_type": "display_data"
    },
    {
     "name": "stderr",
     "output_type": "stream",
     "text": [
      "Warning: Overfitting detector is active, thus evaluation metric is calculated on every iteration. 'metric_period' is ignored for evaluation metric.\n"
     ]
    },
    {
     "name": "stdout",
     "output_type": "stream",
     "text": [
      "0:\ttest: 0.9322453\tbest: 0.9322453 (0)\ttotal: 257ms\tremaining: 2m 8s\n",
      "50:\ttest: 0.9544318\tbest: 0.9544318 (50)\ttotal: 12.9s\tremaining: 1m 53s\n",
      "100:\ttest: 0.9566945\tbest: 0.9566945 (100)\ttotal: 24.7s\tremaining: 1m 37s\n",
      "150:\ttest: 0.9577634\tbest: 0.9577634 (150)\ttotal: 36.5s\tremaining: 1m 24s\n",
      "200:\ttest: 0.9583995\tbest: 0.9583995 (200)\ttotal: 48.8s\tremaining: 1m 12s\n",
      "250:\ttest: 0.9588144\tbest: 0.9588144 (250)\ttotal: 59.3s\tremaining: 58.9s\n",
      "300:\ttest: 0.9591102\tbest: 0.9591102 (300)\ttotal: 1m 10s\tremaining: 46.5s\n",
      "350:\ttest: 0.9593929\tbest: 0.9593929 (350)\ttotal: 1m 21s\tremaining: 34.6s\n",
      "400:\ttest: 0.9596013\tbest: 0.9596013 (400)\ttotal: 1m 32s\tremaining: 22.9s\n",
      "450:\ttest: 0.9597527\tbest: 0.9597557 (449)\ttotal: 1m 43s\tremaining: 11.2s\n",
      "499:\ttest: 0.9598478\tbest: 0.9598478 (499)\ttotal: 1m 54s\tremaining: 0us\n",
      "\n",
      "bestTest = 0.9598477733\n",
      "bestIteration = 499\n",
      "\n"
     ]
    },
    {
     "data": {
      "application/vnd.jupyter.widget-view+json": {
       "model_id": "de820200040e47d6a05a429d5670ef06",
       "version_major": 2,
       "version_minor": 0
      },
      "text/plain": [
       "MetricVisualizer(layout=Layout(align_self='stretch', height='500px'))"
      ]
     },
     "metadata": {},
     "output_type": "display_data"
    },
    {
     "name": "stderr",
     "output_type": "stream",
     "text": [
      "Warning: Overfitting detector is active, thus evaluation metric is calculated on every iteration. 'metric_period' is ignored for evaluation metric.\n"
     ]
    },
    {
     "name": "stdout",
     "output_type": "stream",
     "text": [
      "0:\ttest: 0.9331593\tbest: 0.9331593 (0)\ttotal: 255ms\tremaining: 2m 7s\n",
      "50:\ttest: 0.9547907\tbest: 0.9547907 (50)\ttotal: 13.4s\tremaining: 1m 58s\n",
      "100:\ttest: 0.9570501\tbest: 0.9570501 (100)\ttotal: 26.8s\tremaining: 1m 45s\n",
      "150:\ttest: 0.9580796\tbest: 0.9580796 (150)\ttotal: 41.1s\tremaining: 1m 35s\n",
      "200:\ttest: 0.9586942\tbest: 0.9586942 (200)\ttotal: 52.5s\tremaining: 1m 18s\n",
      "250:\ttest: 0.9590476\tbest: 0.9590476 (250)\ttotal: 1m 3s\tremaining: 1m 2s\n",
      "300:\ttest: 0.9593660\tbest: 0.9593660 (300)\ttotal: 1m 14s\tremaining: 49.5s\n",
      "350:\ttest: 0.9595672\tbest: 0.9595672 (350)\ttotal: 1m 26s\tremaining: 36.9s\n",
      "Stopped by overfitting detector  (5 iterations wait)\n",
      "\n",
      "bestTest = 0.9596816133\n",
      "bestIteration = 371\n",
      "\n",
      "Shrink model to first 372 iterations.\n"
     ]
    },
    {
     "data": {
      "application/vnd.jupyter.widget-view+json": {
       "model_id": "4a3b60fb35c2459cae1754161a843ef5",
       "version_major": 2,
       "version_minor": 0
      },
      "text/plain": [
       "MetricVisualizer(layout=Layout(align_self='stretch', height='500px'))"
      ]
     },
     "metadata": {},
     "output_type": "display_data"
    },
    {
     "name": "stderr",
     "output_type": "stream",
     "text": [
      "Warning: Overfitting detector is active, thus evaluation metric is calculated on every iteration. 'metric_period' is ignored for evaluation metric.\n"
     ]
    },
    {
     "name": "stdout",
     "output_type": "stream",
     "text": [
      "0:\ttest: 0.9327200\tbest: 0.9327200 (0)\ttotal: 251ms\tremaining: 2m 5s\n",
      "50:\ttest: 0.9554971\tbest: 0.9554971 (50)\ttotal: 11.7s\tremaining: 1m 43s\n",
      "100:\ttest: 0.9577706\tbest: 0.9577706 (100)\ttotal: 24.6s\tremaining: 1m 37s\n",
      "150:\ttest: 0.9587768\tbest: 0.9587768 (150)\ttotal: 35.7s\tremaining: 1m 22s\n",
      "200:\ttest: 0.9593636\tbest: 0.9593636 (200)\ttotal: 48.8s\tremaining: 1m 12s\n",
      "250:\ttest: 0.9597332\tbest: 0.9597332 (250)\ttotal: 1m\tremaining: 59.9s\n",
      "300:\ttest: 0.9600188\tbest: 0.9600225 (299)\ttotal: 1m 11s\tremaining: 47.1s\n",
      "350:\ttest: 0.9602812\tbest: 0.9602812 (350)\ttotal: 1m 21s\tremaining: 34.7s\n",
      "400:\ttest: 0.9605056\tbest: 0.9605056 (400)\ttotal: 1m 33s\tremaining: 23.1s\n",
      "Stopped by overfitting detector  (5 iterations wait)\n",
      "\n",
      "bestTest = 0.9605501582\n",
      "bestIteration = 415\n",
      "\n",
      "Shrink model to first 416 iterations.\n"
     ]
    },
    {
     "data": {
      "application/vnd.jupyter.widget-view+json": {
       "model_id": "a5cfc50c13ce467baf10080bb229708f",
       "version_major": 2,
       "version_minor": 0
      },
      "text/plain": [
       "MetricVisualizer(layout=Layout(align_self='stretch', height='500px'))"
      ]
     },
     "metadata": {},
     "output_type": "display_data"
    },
    {
     "name": "stderr",
     "output_type": "stream",
     "text": [
      "Warning: Overfitting detector is active, thus evaluation metric is calculated on every iteration. 'metric_period' is ignored for evaluation metric.\n"
     ]
    },
    {
     "name": "stdout",
     "output_type": "stream",
     "text": [
      "0:\ttest: 0.9315974\tbest: 0.9315974 (0)\ttotal: 236ms\tremaining: 1m 57s\n",
      "50:\ttest: 0.9545297\tbest: 0.9545297 (50)\ttotal: 11.5s\tremaining: 1m 41s\n",
      "100:\ttest: 0.9567623\tbest: 0.9567623 (100)\ttotal: 22.9s\tremaining: 1m 30s\n",
      "150:\ttest: 0.9576185\tbest: 0.9576185 (150)\ttotal: 35s\tremaining: 1m 20s\n",
      "200:\ttest: 0.9582009\tbest: 0.9582009 (200)\ttotal: 45.6s\tremaining: 1m 7s\n",
      "250:\ttest: 0.9585747\tbest: 0.9585747 (250)\ttotal: 56.7s\tremaining: 56.3s\n",
      "300:\ttest: 0.9588704\tbest: 0.9588704 (300)\ttotal: 1m 7s\tremaining: 45s\n",
      "Stopped by overfitting detector  (5 iterations wait)\n",
      "\n",
      "bestTest = 0.9590369564\n",
      "bestIteration = 340\n",
      "\n",
      "Shrink model to first 341 iterations.\n"
     ]
    }
   ],
   "source": [
    "from sklearn.model_selection import KFold\n",
    "\n",
    "catb = CatBoostClassifier(iterations = 500,\n",
    "                          loss_function = 'Logloss',\n",
    "                          eval_metric = 'AUC',\n",
    "                          learning_rate = 0.04350667172323587,\n",
    "                          depth = 8,\n",
    "                          l2_leaf_reg = 0.008793451042115933,\n",
    "                          max_bin = 270,\n",
    "                          random_state = 78,\n",
    "                          min_data_in_leaf = 261,\n",
    "                          colsample_bylevel = 0.06112511689173349,\n",
    "                          bootstrap_type = 'Bernoulli',\n",
    "                          subsample = 0.5426492568692888,\n",
    "                          metric_period = 50,\n",
    "                          od_type = \"Iter\",\n",
    "                          od_wait=5,\n",
    "                          random_strength=1,\n",
    "                          cat_features=cat_features\n",
    ")\n",
    "\n",
    "preds = np.zeros(app_test_poly.shape[0])\n",
    "kf = KFold(n_splits=10, random_state=78, shuffle=True)\n",
    "n=0\n",
    "for trn_idx, test_idx in kf.split(X,y):\n",
    "    X_tr,X_val=X.iloc[trn_idx], X.iloc[test_idx]\n",
    "    y_tr,y_val=y.iloc[trn_idx], y.iloc[test_idx]\n",
    "    model = catb\n",
    "    model.fit(X_tr, y_tr, eval_set = [(X_val,y_val)], cat_features=cat_features, use_best_model=True, plot=True)\n",
    "    preds1 = model.predict(app_test_poly)\n",
    "    n+=1"
   ]
  },
  {
   "cell_type": "code",
   "execution_count": 32,
   "id": "8edd7caa",
   "metadata": {},
   "outputs": [
    {
     "data": {
      "text/plain": [
       "Text(0.5, 0, 'Importance')"
      ]
     },
     "execution_count": 32,
     "metadata": {},
     "output_type": "execute_result"
    },
    {
     "data": {
      "image/png": "[encoded data removed]",
      "text/plain": [
       "<Figure size 720x504 with 1 Axes>"
      ]
     },
     "metadata": {
      "needs_background": "light"
     },
     "output_type": "display_data"
    }
   ],
   "source": [
    "fea_imp = pd.DataFrame({'imp': model.feature_importances_, 'col': X.columns})\n",
    "fea_imp = fea_imp.sort_values(['imp', 'col'], ascending=[True, False]).iloc[-30:]\n",
    "fea_imp.plot(kind='barh', x='col', y='imp', figsize=(10, 7), legend=None)\n",
    "plt.title('CatBoost - Feature Importance')\n",
    "plt.ylabel('Features')\n",
    "plt.xlabel('Importance')"
   ]
  },
  {
   "cell_type": "code",
   "execution_count": 33,
   "id": "f90484a3",
   "metadata": {},
   "outputs": [
    {
     "data": {
      "text/html": [
       "<div>\n",
       "<style scoped>\n",
       "    .dataframe tbody tr th:only-of-type {\n",
       "        vertical-align: middle;\n",
       "    }\n",
       "\n",
       "    .dataframe tbody tr th {\n",
       "        vertical-align: top;\n",
       "    }\n",
       "\n",
       "    .dataframe thead th {\n",
       "        text-align: right;\n",
       "    }\n",
       "</style>\n",
       "<table border=\"1\" class=\"dataframe\">\n",
       "  <thead>\n",
       "    <tr style=\"text-align: right;\">\n",
       "      <th></th>\n",
       "      <th>customer_ID</th>\n",
       "      <th>score</th>\n",
       "    </tr>\n",
       "  </thead>\n",
       "  <tbody>\n",
       "    <tr>\n",
       "      <th>0</th>\n",
       "      <td>000041bdba6ecadd89a52d11886e8eaaec9325906c9723...</td>\n",
       "      <td>0</td>\n",
       "    </tr>\n",
       "    <tr>\n",
       "      <th>1</th>\n",
       "      <td>00007889e4fcd2614b6cbe7f8f3d2e5c728eca32d9eb8a...</td>\n",
       "      <td>0</td>\n",
       "    </tr>\n",
       "    <tr>\n",
       "      <th>2</th>\n",
       "      <td>00018dd4932409baf6083519b52113c2ef58be59e1213e...</td>\n",
       "      <td>0</td>\n",
       "    </tr>\n",
       "    <tr>\n",
       "      <th>3</th>\n",
       "      <td>000198b3dc70edd65dbf0d7eddbcb926c6d7dbd7986af1...</td>\n",
       "      <td>0</td>\n",
       "    </tr>\n",
       "    <tr>\n",
       "      <th>4</th>\n",
       "      <td>00031e8be98bc3411f6037cbd4d3eeaf24b3ae221682b7...</td>\n",
       "      <td>0</td>\n",
       "    </tr>\n",
       "  </tbody>\n",
       "</table>\n",
       "</div>"
      ],
      "text/plain": [
       "                                         customer_ID  score\n",
       "0  000041bdba6ecadd89a52d11886e8eaaec9325906c9723...      0\n",
       "1  00007889e4fcd2614b6cbe7f8f3d2e5c728eca32d9eb8a...      0\n",
       "2  00018dd4932409baf6083519b52113c2ef58be59e1213e...      0\n",
       "3  000198b3dc70edd65dbf0d7eddbcb926c6d7dbd7986af1...      0\n",
       "4  00031e8be98bc3411f6037cbd4d3eeaf24b3ae221682b7...      0"
      ]
     },
     "execution_count": 33,
     "metadata": {},
     "output_type": "execute_result"
    }
   ],
   "source": [
    "preds = pd.DataFrame(preds1)\n",
    "preds.columns = ['score']\n",
    "submission = pd.concat([submission, preds], axis = 1)\n",
    "submission.head(5)"
   ]
  },
  {
   "cell_type": "code",
   "execution_count": 34,
   "id": "e9da557d",
   "metadata": {},
   "outputs": [],
   "source": [
    "submission.to_csv('submission.csv')"
   ]
  },
  {
   "cell_type": "code",
   "execution_count": null,
   "id": "6700621a",
   "metadata": {},
   "outputs": [],
   "source": []
  }
 ],
 "metadata": {
  "kernelspec": {
   "display_name": "Python 3 (ipykernel)",
   "language": "python",
   "name": "python3"
  },
  "language_info": {
   "codemirror_mode": {
    "name": "ipython",
    "version": 3
   },
   "file_extension": ".py",
   "mimetype": "text/x-python",
   "name": "python",
   "nbconvert_exporter": "python",
   "pygments_lexer": "ipython3",
   "version": "3.9.7"
  }
 },
 "nbformat": 4,
 "nbformat_minor": 5
}
